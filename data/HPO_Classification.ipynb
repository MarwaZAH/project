{
  "nbformat": 4,
  "nbformat_minor": 0,
  "metadata": {
    "anaconda-cloud": {},
    "kernelspec": {
      "display_name": "Python [default]",
      "language": "python",
      "name": "python3"
    },
    "language_info": {
      "codemirror_mode": {
        "name": "ipython",
        "version": 3
      },
      "file_extension": ".py",
      "mimetype": "text/x-python",
      "name": "python",
      "nbconvert_exporter": "python",
      "pygments_lexer": "ipython3",
      "version": "3.5.2"
    },
    "colab": {
      "name": "HPO_Classification.ipynb",
      "provenance": [],
      "collapsed_sections": [
        "utJDnxAwdzwj",
        "N_81VdGtdzwr",
        "dsliqnKTdzw7"
      ]
    }
  },
  "cells": [
    {
      "cell_type": "markdown",
      "metadata": {
        "id": "aQWmUK2gdzwO"
      },
      "source": [
        "# Hyperparameter Optimization (HPO) of Machine Learning Models\n",
        "L. Yang and A. Shami, “On hyperparameter optimization of machine learning algorithms: Theory and practice,” Neurocomputing, vol. 415, pp. 295–316, 2020, doi: https://doi.org/10.1016/j.neucom.2020.07.061.\n",
        "\n",
        "### **Sample code for classification problems**  \n",
        "**Dataset used:**  \n",
        "&nbsp; MNIST from sklearn\n",
        "\n",
        "**Machine learning algorithms used:**  \n",
        "&nbsp; Random forest (RF), support vector machine (SVM), k-nearest neighbor (KNN), artificial neural network (ANN)\n",
        "\n",
        "**HPO algorithms used:**  \n",
        "&nbsp; Grid search, random search, hyperband, Bayesian Optimization with Gaussian Processes (BO-GP), Bayesian Optimization with Tree-structured Parzen Estimator (BO-TPE), particle swarm optimization (PSO), genetic algorithm (GA).\n",
        "\n",
        "**Performance metric:**  \n",
        "&nbsp; Classification accuracy"
      ]
    },
    {
      "cell_type": "code",
      "metadata": {
        "id": "sNJmi-UDdzwS"
      },
      "source": [
        "import numpy as np\n",
        "import pandas as pd\n",
        "import seaborn as sns\n",
        "import matplotlib.pyplot as plt\n",
        "from sklearn.model_selection import train_test_split,cross_val_score\n",
        "from sklearn.ensemble import RandomForestClassifier,RandomForestRegressor\n",
        "from sklearn.metrics import classification_report,confusion_matrix,accuracy_score\n",
        "from sklearn.neighbors import KNeighborsClassifier,KNeighborsRegressor\n",
        "from sklearn.svm import SVC,SVR\n",
        "from sklearn import datasets\n",
        "import scipy.stats as stats"
      ],
      "execution_count": 7,
      "outputs": []
    },
    {
      "cell_type": "markdown",
      "metadata": {
        "id": "Ikketv5idzwU"
      },
      "source": [
        "## Load MNIST dataset\n",
        "The MNIST database (Modified National Institute of Standards and Technology database) is a large database of handwritten digits that is commonly used for training various image processing systems. The MNIST database has a training set of 60,000 examples, and a test set of 10,000 examples. It is a subset of a larger set available from NIST. The digits have been size-normalized and centered in a fixed-size image.\n",
        "\n",
        "You can read more about the data and the variables [[1]](http://yann.lecun.com/exdb/mnist/) [[2]](https://scikit-learn.org/stable/modules/generated/sklearn.datasets.load_digits.html#sklearn.datasets.load_digits/)."
      ]
    },
    {
      "cell_type": "code",
      "metadata": {
        "colab": {
          "base_uri": "https://localhost:8080/"
        },
        "id": "aivkwRAYFiX7",
        "outputId": "72aad488-d821-4d37-c09f-7310b7b803c3"
      },
      "source": [
        "import pandas as pd\n",
        "from numpy import mean\n",
        "from numpy import std\n",
        "from numpy import dstack\n",
        "from pandas import read_csv\n",
        "from keras.models import Sequential\n",
        "from keras.layers import Dense\n",
        "from keras.layers import Flatten\n",
        "from keras.layers import Dropout\n",
        "from keras.layers import LSTM\n",
        "#from keras.utils import to_categorical\n",
        "from tensorflow.keras.utils import to_categorical\n",
        "from matplotlib import pyplot\n",
        "import matplotlib.pyplot as plt\n",
        "\n",
        "from keras import Model\n",
        "from keras.layers import Lambda, Input, Dropout, Flatten, LSTM, Concatenate, Bidirectional, Conv1D, MaxPooling1D\n",
        "from keras import backend as K\n",
        "from keras.callbacks import TensorBoard\n",
        "from time import time\n",
        "from keras import optimizers\n",
        "from keras.callbacks import ReduceLROnPlateau, EarlyStopping\n",
        "from time import time\n",
        "import csv\n",
        "import numpy as np\n",
        "from sklearn.svm import SVR\n",
        "import matplotlib.pyplot as plt\n",
        "import matplotlib.pyplot as plot\n",
        "import seaborn\n",
        "from pandas import datetime\n",
        "import math, time\n",
        "import itertools\n",
        "import datetime\n",
        "from operator import itemgetter\n",
        "from sklearn.metrics import mean_squared_error\n",
        "from sklearn.metrics import roc_curve\n",
        "from sklearn.metrics import roc_auc_score\n",
        "from math import sqrt\n",
        "from keras.models import Sequential\n",
        "from keras.layers.core import Dense, Dropout, Activation\n",
        "from keras.layers.recurrent import LSTM\n",
        "import sys\n",
        "from sklearn import linear_model\n",
        "import matplotlib.pyplot as plt\n",
        "from matplotlib import style\n",
        "# import pandas as pd\n",
        "# import numpy as np\n",
        "from sklearn.model_selection import train_test_split\n",
        "from sklearn import preprocessing\n",
        "from sklearn.metrics import precision_recall_fscore_support"
      ],
      "execution_count": 21,
      "outputs": [
        {
          "output_type": "stream",
          "name": "stderr",
          "text": [
            "/usr/local/lib/python3.7/dist-packages/ipykernel_launcher.py:30: FutureWarning: The pandas.datetime class is deprecated and will be removed from pandas in a future version. Import from datetime module instead.\n"
          ]
        }
      ]
    },
    {
      "cell_type": "code",
      "metadata": {
        "id": "B4IhychkG3Rd"
      },
      "source": [
        "def return_shape(X_trainz,window):\n",
        "  size=X_trainz.shape[0]#* X_trainz.shape[1]\n",
        "  wind=window\n",
        "  shape0=0\n",
        "  for i in range(2,window):\n",
        "    if size%i==0:\n",
        "      #print(i,278343/i)\n",
        "      x=size/i\n",
        "      for f in range(2,window):\n",
        "        if x%f==0 and x*f==size:\n",
        "          shape0=x\n",
        "          wind=f\n",
        "          #print(x,f, x/f,'\\n-------- \\n')\n",
        "  return int(shape0),wind\n",
        "\n",
        "def return_shape2(X_trainz,window):\n",
        "  size=X_trainz.shape[0]#* X_trainz.shape[1]\n",
        "  wind=window\n",
        "  shape0=0\n",
        "  for i in range(2,window):\n",
        "    if size%i==0:\n",
        "      #print(i,278343/i)\n",
        "      x=size/i\n",
        "      for f in range(2,window):\n",
        "        if x%f==0:\n",
        "          shape0=size/f\n",
        "          wind=f\n",
        "          #print(x,f, x/f,'\\n-------- \\n')\n",
        "  return int(shape0),wind"
      ],
      "execution_count": 9,
      "outputs": []
    },
    {
      "cell_type": "code",
      "metadata": {
        "colab": {
          "base_uri": "https://localhost:8080/"
        },
        "id": "rHJnjfV9G7NZ",
        "outputId": "0b93a8cf-06f4-490f-a5a0-5f525977899e"
      },
      "source": [
        "#from sklearn.cross_validation import train_test_split\n",
        "#x_train,x_test,y_train,y_test=train_test_split(x,y,test_size=0.4,random_state=4)\n",
        "import pandas as pd\n",
        "from sklearn import preprocessing\n",
        "\n",
        "df  = pd.read_csv('/content/marwa.csv', na_values= '#DIV/0!')\n",
        "# Training2 = pd.read_csv('SmartFall Training.csv')\n",
        "# df = pd.concat([Training2, Testing2], ignore_index=True)\n",
        "#df.describe()\n",
        "\n",
        "shape0,w1=return_shape2(df,25)\n",
        "#hape0,w1=return_shape(Training,25)\n",
        "print(df.shape,shape0,w1,shape0*w1,shape0*w1*3)\n",
        "#Training[['ms_accelerometer_x']]"
      ],
      "execution_count": 10,
      "outputs": [
        {
          "output_type": "stream",
          "name": "stdout",
          "text": [
            "(1128, 25) 564 2 1128 3384\n"
          ]
        }
      ]
    },
    {
      "cell_type": "code",
      "metadata": {
        "colab": {
          "base_uri": "https://localhost:8080/",
          "height": 132
        },
        "id": "8NNJcx4iHB5w",
        "outputId": "94135e57-4778-4e0e-e92b-1ad2c09baab8"
      },
      "source": [
        "col=df.columns\n",
        "\n",
        "df=df[col[1:]]\n",
        "df[:2]"
      ],
      "execution_count": 11,
      "outputs": [
        {
          "output_type": "execute_result",
          "data": {
            "text/html": [
              "<div>\n",
              "<style scoped>\n",
              "    .dataframe tbody tr th:only-of-type {\n",
              "        vertical-align: middle;\n",
              "    }\n",
              "\n",
              "    .dataframe tbody tr th {\n",
              "        vertical-align: top;\n",
              "    }\n",
              "\n",
              "    .dataframe thead th {\n",
              "        text-align: right;\n",
              "    }\n",
              "</style>\n",
              "<table border=\"1\" class=\"dataframe\">\n",
              "  <thead>\n",
              "    <tr style=\"text-align: right;\">\n",
              "      <th></th>\n",
              "      <th>Y</th>\n",
              "      <th>R1</th>\n",
              "      <th>R2</th>\n",
              "      <th>R3</th>\n",
              "      <th>R4</th>\n",
              "      <th>R5</th>\n",
              "      <th>R6</th>\n",
              "      <th>R7</th>\n",
              "      <th>R8</th>\n",
              "      <th>R9</th>\n",
              "      <th>R10</th>\n",
              "      <th>R11</th>\n",
              "      <th>R12</th>\n",
              "      <th>R13</th>\n",
              "      <th>R14</th>\n",
              "      <th>R15</th>\n",
              "      <th>R16</th>\n",
              "      <th>R17</th>\n",
              "      <th>R18</th>\n",
              "      <th>R19</th>\n",
              "      <th>R20</th>\n",
              "      <th>R21</th>\n",
              "      <th>R22</th>\n",
              "      <th>R23</th>\n",
              "    </tr>\n",
              "  </thead>\n",
              "  <tbody>\n",
              "    <tr>\n",
              "      <th>0</th>\n",
              "      <td>1</td>\n",
              "      <td>4.675849</td>\n",
              "      <td>6.034465</td>\n",
              "      <td>0.869802</td>\n",
              "      <td>3.317263</td>\n",
              "      <td>0.627628</td>\n",
              "      <td>1.616663</td>\n",
              "      <td>0.602000</td>\n",
              "      <td>0.959167</td>\n",
              "      <td>1.149687</td>\n",
              "      <td>1.744831</td>\n",
              "      <td>64.292388</td>\n",
              "      <td>1.0</td>\n",
              "      <td>0.357076</td>\n",
              "      <td>2.800523</td>\n",
              "      <td>0.357076</td>\n",
              "      <td>0.958923</td>\n",
              "      <td>3.433186</td>\n",
              "      <td>11.360868</td>\n",
              "      <td>6.839244</td>\n",
              "      <td>19.153461</td>\n",
              "      <td>0.068392</td>\n",
              "      <td>0.183667</td>\n",
              "      <td>0.130614</td>\n",
              "    </tr>\n",
              "    <tr>\n",
              "      <th>1</th>\n",
              "      <td>1</td>\n",
              "      <td>4.848808</td>\n",
              "      <td>5.823598</td>\n",
              "      <td>0.967639</td>\n",
              "      <td>3.861509</td>\n",
              "      <td>0.667390</td>\n",
              "      <td>1.717557</td>\n",
              "      <td>0.571276</td>\n",
              "      <td>0.855985</td>\n",
              "      <td>1.033443</td>\n",
              "      <td>1.290924</td>\n",
              "      <td>61.689774</td>\n",
              "      <td>1.0</td>\n",
              "      <td>0.383102</td>\n",
              "      <td>2.610269</td>\n",
              "      <td>0.383102</td>\n",
              "      <td>1.151807</td>\n",
              "      <td>3.342922</td>\n",
              "      <td>15.165458</td>\n",
              "      <td>8.663665</td>\n",
              "      <td>22.614498</td>\n",
              "      <td>0.086637</td>\n",
              "      <td>0.260475</td>\n",
              "      <td>0.156726</td>\n",
              "    </tr>\n",
              "  </tbody>\n",
              "</table>\n",
              "</div>"
            ],
            "text/plain": [
              "   Y        R1        R2        R3  ...        R20       R21       R22       R23\n",
              "0  1  4.675849  6.034465  0.869802  ...  19.153461  0.068392  0.183667  0.130614\n",
              "1  1  4.848808  5.823598  0.967639  ...  22.614498  0.086637  0.260475  0.156726\n",
              "\n",
              "[2 rows x 24 columns]"
            ]
          },
          "metadata": {},
          "execution_count": 11
        }
      ]
    },
    {
      "cell_type": "code",
      "metadata": {
        "id": "7x-p_BHzIo9g"
      },
      "source": [
        "#df = df.reset_index()\n",
        "df = df.fillna(df.mean())"
      ],
      "execution_count": 12,
      "outputs": []
    },
    {
      "cell_type": "code",
      "metadata": {
        "id": "PRILYOwoHFMG",
        "colab": {
          "base_uri": "https://localhost:8080/",
          "height": 878
        },
        "outputId": "14c78fc3-2fc1-4cb3-d5ad-d4dd2d02da64"
      },
      "source": [
        "df = df.replace(',', '', regex=True)\n",
        "df = df[1:].astype(float)\n",
        "print (df.dtypes)\n",
        "df"
      ],
      "execution_count": 13,
      "outputs": [
        {
          "output_type": "stream",
          "name": "stdout",
          "text": [
            "Y      float64\n",
            "R1     float64\n",
            "R2     float64\n",
            "R3     float64\n",
            "R4     float64\n",
            "R5     float64\n",
            "R6     float64\n",
            "R7     float64\n",
            "R8     float64\n",
            "R9     float64\n",
            "R10    float64\n",
            "R11    float64\n",
            "R12    float64\n",
            "R13    float64\n",
            "R14    float64\n",
            "R15    float64\n",
            "R16    float64\n",
            "R17    float64\n",
            "R18    float64\n",
            "R19    float64\n",
            "R20    float64\n",
            "R21    float64\n",
            "R22    float64\n",
            "R23    float64\n",
            "dtype: object\n"
          ]
        },
        {
          "output_type": "execute_result",
          "data": {
            "text/html": [
              "<div>\n",
              "<style scoped>\n",
              "    .dataframe tbody tr th:only-of-type {\n",
              "        vertical-align: middle;\n",
              "    }\n",
              "\n",
              "    .dataframe tbody tr th {\n",
              "        vertical-align: top;\n",
              "    }\n",
              "\n",
              "    .dataframe thead th {\n",
              "        text-align: right;\n",
              "    }\n",
              "</style>\n",
              "<table border=\"1\" class=\"dataframe\">\n",
              "  <thead>\n",
              "    <tr style=\"text-align: right;\">\n",
              "      <th></th>\n",
              "      <th>Y</th>\n",
              "      <th>R1</th>\n",
              "      <th>R2</th>\n",
              "      <th>R3</th>\n",
              "      <th>R4</th>\n",
              "      <th>R5</th>\n",
              "      <th>R6</th>\n",
              "      <th>R7</th>\n",
              "      <th>R8</th>\n",
              "      <th>R9</th>\n",
              "      <th>R10</th>\n",
              "      <th>R11</th>\n",
              "      <th>R12</th>\n",
              "      <th>R13</th>\n",
              "      <th>R14</th>\n",
              "      <th>R15</th>\n",
              "      <th>R16</th>\n",
              "      <th>R17</th>\n",
              "      <th>R18</th>\n",
              "      <th>R19</th>\n",
              "      <th>R20</th>\n",
              "      <th>R21</th>\n",
              "      <th>R22</th>\n",
              "      <th>R23</th>\n",
              "    </tr>\n",
              "  </thead>\n",
              "  <tbody>\n",
              "    <tr>\n",
              "      <th>1</th>\n",
              "      <td>1.0</td>\n",
              "      <td>4.848808</td>\n",
              "      <td>5.823598</td>\n",
              "      <td>0.967639</td>\n",
              "      <td>3.861509</td>\n",
              "      <td>0.667390</td>\n",
              "      <td>1.717557</td>\n",
              "      <td>0.571276</td>\n",
              "      <td>0.855985</td>\n",
              "      <td>1.033443</td>\n",
              "      <td>1.290924</td>\n",
              "      <td>61.689774</td>\n",
              "      <td>1.000000</td>\n",
              "      <td>0.383102</td>\n",
              "      <td>2.610269</td>\n",
              "      <td>0.383102</td>\n",
              "      <td>1.151807</td>\n",
              "      <td>3.342922</td>\n",
              "      <td>15.165458</td>\n",
              "      <td>8.663665</td>\n",
              "      <td>22.614498</td>\n",
              "      <td>0.086637</td>\n",
              "      <td>0.260475</td>\n",
              "      <td>0.156726</td>\n",
              "    </tr>\n",
              "    <tr>\n",
              "      <th>2</th>\n",
              "      <td>1.0</td>\n",
              "      <td>4.449737</td>\n",
              "      <td>5.387504</td>\n",
              "      <td>0.755265</td>\n",
              "      <td>3.648620</td>\n",
              "      <td>0.650528</td>\n",
              "      <td>2.007167</td>\n",
              "      <td>0.701450</td>\n",
              "      <td>1.078278</td>\n",
              "      <td>1.324039</td>\n",
              "      <td>1.592171</td>\n",
              "      <td>64.998405</td>\n",
              "      <td>1.053633</td>\n",
              "      <td>0.383102</td>\n",
              "      <td>2.610269</td>\n",
              "      <td>0.403649</td>\n",
              "      <td>1.155025</td>\n",
              "      <td>3.342922</td>\n",
              "      <td>9.922342</td>\n",
              "      <td>6.960023</td>\n",
              "      <td>17.242746</td>\n",
              "      <td>0.066057</td>\n",
              "      <td>0.199158</td>\n",
              "      <td>0.131376</td>\n",
              "    </tr>\n",
              "    <tr>\n",
              "      <th>3</th>\n",
              "      <td>1.0</td>\n",
              "      <td>8.124334</td>\n",
              "      <td>9.276282</td>\n",
              "      <td>0.971036</td>\n",
              "      <td>6.540571</td>\n",
              "      <td>0.816302</td>\n",
              "      <td>4.082930</td>\n",
              "      <td>0.750027</td>\n",
              "      <td>0.918811</td>\n",
              "      <td>1.029828</td>\n",
              "      <td>1.303120</td>\n",
              "      <td>31.302769</td>\n",
              "      <td>1.000000</td>\n",
              "      <td>0.686972</td>\n",
              "      <td>1.455663</td>\n",
              "      <td>0.686972</td>\n",
              "      <td>3.739679</td>\n",
              "      <td>7.806609</td>\n",
              "      <td>10.521654</td>\n",
              "      <td>7.891523</td>\n",
              "      <td>11.487396</td>\n",
              "      <td>0.078915</td>\n",
              "      <td>0.429592</td>\n",
              "      <td>0.108355</td>\n",
              "    </tr>\n",
              "    <tr>\n",
              "      <th>4</th>\n",
              "      <td>1.0</td>\n",
              "      <td>5.301444</td>\n",
              "      <td>6.719141</td>\n",
              "      <td>1.292496</td>\n",
              "      <td>3.904936</td>\n",
              "      <td>0.798386</td>\n",
              "      <td>2.607834</td>\n",
              "      <td>0.525776</td>\n",
              "      <td>0.658549</td>\n",
              "      <td>0.773697</td>\n",
              "      <td>1.133151</td>\n",
              "      <td>25.271438</td>\n",
              "      <td>1.000000</td>\n",
              "      <td>0.747286</td>\n",
              "      <td>1.338176</td>\n",
              "      <td>0.747286</td>\n",
              "      <td>3.706514</td>\n",
              "      <td>6.289086</td>\n",
              "      <td>8.322960</td>\n",
              "      <td>4.376014</td>\n",
              "      <td>5.855878</td>\n",
              "      <td>0.043760</td>\n",
              "      <td>0.217049</td>\n",
              "      <td>0.064394</td>\n",
              "    </tr>\n",
              "    <tr>\n",
              "      <th>5</th>\n",
              "      <td>1.0</td>\n",
              "      <td>5.823451</td>\n",
              "      <td>6.328628</td>\n",
              "      <td>2.109891</td>\n",
              "      <td>5.366552</td>\n",
              "      <td>0.915058</td>\n",
              "      <td>4.299067</td>\n",
              "      <td>0.365170</td>\n",
              "      <td>0.399067</td>\n",
              "      <td>0.473958</td>\n",
              "      <td>0.470609</td>\n",
              "      <td>23.586080</td>\n",
              "      <td>1.000000</td>\n",
              "      <td>0.764139</td>\n",
              "      <td>1.308662</td>\n",
              "      <td>0.764139</td>\n",
              "      <td>8.996055</td>\n",
              "      <td>5.284857</td>\n",
              "      <td>13.038172</td>\n",
              "      <td>4.761144</td>\n",
              "      <td>6.230728</td>\n",
              "      <td>0.047611</td>\n",
              "      <td>0.560520</td>\n",
              "      <td>0.061795</td>\n",
              "    </tr>\n",
              "    <tr>\n",
              "      <th>...</th>\n",
              "      <td>...</td>\n",
              "      <td>...</td>\n",
              "      <td>...</td>\n",
              "      <td>...</td>\n",
              "      <td>...</td>\n",
              "      <td>...</td>\n",
              "      <td>...</td>\n",
              "      <td>...</td>\n",
              "      <td>...</td>\n",
              "      <td>...</td>\n",
              "      <td>...</td>\n",
              "      <td>...</td>\n",
              "      <td>...</td>\n",
              "      <td>...</td>\n",
              "      <td>...</td>\n",
              "      <td>...</td>\n",
              "      <td>...</td>\n",
              "      <td>...</td>\n",
              "      <td>...</td>\n",
              "      <td>...</td>\n",
              "      <td>...</td>\n",
              "      <td>...</td>\n",
              "      <td>...</td>\n",
              "      <td>...</td>\n",
              "    </tr>\n",
              "    <tr>\n",
              "      <th>1123</th>\n",
              "      <td>0.0</td>\n",
              "      <td>1.549620</td>\n",
              "      <td>2.424142</td>\n",
              "      <td>1.509095</td>\n",
              "      <td>0.374797</td>\n",
              "      <td>0.330770</td>\n",
              "      <td>0.192411</td>\n",
              "      <td>0.128767</td>\n",
              "      <td>0.389295</td>\n",
              "      <td>0.662649</td>\n",
              "      <td>2.517915</td>\n",
              "      <td>65.701681</td>\n",
              "      <td>1.000000</td>\n",
              "      <td>0.342983</td>\n",
              "      <td>2.915595</td>\n",
              "      <td>0.342983</td>\n",
              "      <td>0.512504</td>\n",
              "      <td>2.513649</td>\n",
              "      <td>-45.070058</td>\n",
              "      <td>-5.803540</td>\n",
              "      <td>-16.920771</td>\n",
              "      <td>-0.058035</td>\n",
              "      <td>-0.086720</td>\n",
              "      <td>-0.298656</td>\n",
              "    </tr>\n",
              "    <tr>\n",
              "      <th>1124</th>\n",
              "      <td>0.0</td>\n",
              "      <td>0.926385</td>\n",
              "      <td>1.854461</td>\n",
              "      <td>1.040102</td>\n",
              "      <td>0.065614</td>\n",
              "      <td>0.257669</td>\n",
              "      <td>0.153767</td>\n",
              "      <td>0.114146</td>\n",
              "      <td>0.442995</td>\n",
              "      <td>0.961444</td>\n",
              "      <td>12.520494</td>\n",
              "      <td>55.558432</td>\n",
              "      <td>1.000000</td>\n",
              "      <td>0.444416</td>\n",
              "      <td>2.250146</td>\n",
              "      <td>0.444416</td>\n",
              "      <td>0.598676</td>\n",
              "      <td>3.198489</td>\n",
              "      <td>-56.057901</td>\n",
              "      <td>-6.398791</td>\n",
              "      <td>-14.398211</td>\n",
              "      <td>-0.063988</td>\n",
              "      <td>-0.086199</td>\n",
              "      <td>-0.538965</td>\n",
              "    </tr>\n",
              "    <tr>\n",
              "      <th>1125</th>\n",
              "      <td>0.0</td>\n",
              "      <td>0.872099</td>\n",
              "      <td>1.517626</td>\n",
              "      <td>0.822528</td>\n",
              "      <td>0.116966</td>\n",
              "      <td>0.309824</td>\n",
              "      <td>0.186147</td>\n",
              "      <td>0.128474</td>\n",
              "      <td>0.414668</td>\n",
              "      <td>1.215764</td>\n",
              "      <td>5.380273</td>\n",
              "      <td>80.051810</td>\n",
              "      <td>1.000000</td>\n",
              "      <td>0.199482</td>\n",
              "      <td>5.012986</td>\n",
              "      <td>0.199482</td>\n",
              "      <td>0.289030</td>\n",
              "      <td>0.977133</td>\n",
              "      <td>-46.494553</td>\n",
              "      <td>-5.973344</td>\n",
              "      <td>-29.944291</td>\n",
              "      <td>-0.059733</td>\n",
              "      <td>-0.086548</td>\n",
              "      <td>-0.565264</td>\n",
              "    </tr>\n",
              "    <tr>\n",
              "      <th>1126</th>\n",
              "      <td>0.0</td>\n",
              "      <td>4.174735</td>\n",
              "      <td>5.326521</td>\n",
              "      <td>1.129383</td>\n",
              "      <td>1.205675</td>\n",
              "      <td>0.642602</td>\n",
              "      <td>6.500092</td>\n",
              "      <td>0.920551</td>\n",
              "      <td>2.607711</td>\n",
              "      <td>0.067116</td>\n",
              "      <td>48.232644</td>\n",
              "      <td>85.328328</td>\n",
              "      <td>1.259974</td>\n",
              "      <td>0.308275</td>\n",
              "      <td>78.443741</td>\n",
              "      <td>0.408329</td>\n",
              "      <td>2.729283</td>\n",
              "      <td>5.465506</td>\n",
              "      <td>-323.917287</td>\n",
              "      <td>6.524953</td>\n",
              "      <td>647.399478</td>\n",
              "      <td>0.071500</td>\n",
              "      <td>0.115530</td>\n",
              "      <td>2.765826</td>\n",
              "    </tr>\n",
              "    <tr>\n",
              "      <th>1127</th>\n",
              "      <td>0.0</td>\n",
              "      <td>4.174735</td>\n",
              "      <td>5.326521</td>\n",
              "      <td>1.129383</td>\n",
              "      <td>1.205675</td>\n",
              "      <td>0.642602</td>\n",
              "      <td>6.500092</td>\n",
              "      <td>0.920551</td>\n",
              "      <td>2.607711</td>\n",
              "      <td>0.067116</td>\n",
              "      <td>48.232644</td>\n",
              "      <td>85.328328</td>\n",
              "      <td>1.259974</td>\n",
              "      <td>0.308275</td>\n",
              "      <td>78.443741</td>\n",
              "      <td>0.408329</td>\n",
              "      <td>2.729283</td>\n",
              "      <td>5.465506</td>\n",
              "      <td>-323.917287</td>\n",
              "      <td>6.524953</td>\n",
              "      <td>647.399478</td>\n",
              "      <td>0.071500</td>\n",
              "      <td>0.115530</td>\n",
              "      <td>2.765826</td>\n",
              "    </tr>\n",
              "  </tbody>\n",
              "</table>\n",
              "<p>1127 rows × 24 columns</p>\n",
              "</div>"
            ],
            "text/plain": [
              "        Y        R1        R2  ...       R21       R22       R23\n",
              "1     1.0  4.848808  5.823598  ...  0.086637  0.260475  0.156726\n",
              "2     1.0  4.449737  5.387504  ...  0.066057  0.199158  0.131376\n",
              "3     1.0  8.124334  9.276282  ...  0.078915  0.429592  0.108355\n",
              "4     1.0  5.301444  6.719141  ...  0.043760  0.217049  0.064394\n",
              "5     1.0  5.823451  6.328628  ...  0.047611  0.560520  0.061795\n",
              "...   ...       ...       ...  ...       ...       ...       ...\n",
              "1123  0.0  1.549620  2.424142  ... -0.058035 -0.086720 -0.298656\n",
              "1124  0.0  0.926385  1.854461  ... -0.063988 -0.086199 -0.538965\n",
              "1125  0.0  0.872099  1.517626  ... -0.059733 -0.086548 -0.565264\n",
              "1126  0.0  4.174735  5.326521  ...  0.071500  0.115530  2.765826\n",
              "1127  0.0  4.174735  5.326521  ...  0.071500  0.115530  2.765826\n",
              "\n",
              "[1127 rows x 24 columns]"
            ]
          },
          "metadata": {},
          "execution_count": 13
        }
      ]
    },
    {
      "cell_type": "code",
      "metadata": {
        "id": "lE6M3v41HZQ_",
        "colab": {
          "base_uri": "https://localhost:8080/"
        },
        "outputId": "ee5aaa10-5748-4373-d4b9-4443c87dde22"
      },
      "source": [
        "col=df.columns\n",
        "X, y=df[col[1: ]], df[col[0]]\n",
        "X = preprocessing.minmax_scale(X)\n",
        "# split into train and test\n",
        "lab_enc = preprocessing.LabelEncoder()\n",
        "y = lab_enc.fit_transform(y)\n",
        "\n",
        "# split into train/test sets\n",
        "trainX, testX, trainy, testy = train_test_split(X, y, test_size=0.2, random_state=2)\n",
        "print(trainX.shape, testX.shape, trainy.shape ,testy.shape)"
      ],
      "execution_count": 14,
      "outputs": [
        {
          "output_type": "stream",
          "name": "stdout",
          "text": [
            "(901, 23) (226, 23) (901,) (226,)\n"
          ]
        }
      ]
    },
    {
      "cell_type": "code",
      "metadata": {
        "id": "7kNati5AICjn"
      },
      "source": [
        "trainy"
      ],
      "execution_count": null,
      "outputs": []
    },
    {
      "cell_type": "markdown",
      "metadata": {
        "id": "ipVoVciEdzwZ"
      },
      "source": [
        "## Baseline Machine Learning models: Classifiers with Default Hyperparameters"
      ]
    },
    {
      "cell_type": "code",
      "metadata": {
        "colab": {
          "base_uri": "https://localhost:8080/"
        },
        "id": "_uGekecCdzwZ",
        "outputId": "70fd9ff8-690f-4931-d0ef-087712b037b4"
      },
      "source": [
        "#Random Forest\n",
        "clf = RandomForestClassifier()\n",
        "clf.fit(X,y)\n",
        "scores = cross_val_score(clf, X, y, cv=3,scoring='accuracy')\n",
        "print(\"Accuracy:\"+ str(scores.mean()))"
      ],
      "execution_count": 15,
      "outputs": [
        {
          "output_type": "stream",
          "name": "stdout",
          "text": [
            "Accuracy:0.994678486997636\n"
          ]
        }
      ]
    },
    {
      "cell_type": "code",
      "metadata": {
        "colab": {
          "base_uri": "https://localhost:8080/"
        },
        "id": "tN8cSkrEdzwa",
        "outputId": "4f65bcd9-be64-4c90-cf2a-9bbe3ae1ecc1"
      },
      "source": [
        "#SVM\n",
        "clf = SVC(gamma='scale')\n",
        "clf.fit(X,y)\n",
        "scores = cross_val_score(clf, X, y, cv=3,scoring='accuracy')\n",
        "print(\"Accuracy:\"+ str(scores.mean()))"
      ],
      "execution_count": null,
      "outputs": [
        {
          "output_type": "stream",
          "name": "stdout",
          "text": [
            "Accuracy:0.6885555555555555\n"
          ]
        }
      ]
    },
    {
      "cell_type": "code",
      "metadata": {
        "scrolled": true,
        "colab": {
          "base_uri": "https://localhost:8080/"
        },
        "id": "_GMmicvQdzwb",
        "outputId": "166b1b73-fbdf-46bc-bccc-1c24ce5194c5"
      },
      "source": [
        "#KNN\n",
        "clf = KNeighborsClassifier()\n",
        "clf.fit(X,y)\n",
        "scores = cross_val_score(clf, X, y, cv=3,scoring='accuracy')\n",
        "print(\"Accuracy:\"+ str(scores.mean()))"
      ],
      "execution_count": null,
      "outputs": [
        {
          "output_type": "stream",
          "name": "stdout",
          "text": [
            "Accuracy:0.8899881796690307\n"
          ]
        }
      ]
    },
    {
      "cell_type": "code",
      "metadata": {
        "id": "NP1HTI7Mdzwc"
      },
      "source": [
        "#ANN\n",
        "from keras.models import Sequential, Model\n",
        "from keras.layers import Dense, Input\n",
        "from sklearn.model_selection import GridSearchCV\n",
        "from keras.wrappers.scikit_learn import KerasClassifier\n",
        "from keras.callbacks import EarlyStopping\n",
        "def ANN(optimizer = 'sgd',neurons=32,batch_size=32,epochs=20,activation='relu',patience=3,loss='categorical_crossentropy'):\n",
        "    model = Sequential()\n",
        "    model.add(Dense(neurons, input_shape=(X.shape[1],), activation=activation))\n",
        "    model.add(Dense(neurons, activation=activation))\n",
        "    model.add(Dense(2,activation='softmax'))  # 10 is the number of classes in the dataset, you can change it based on your dataset\n",
        "    model.compile(optimizer = optimizer, loss=loss)\n",
        "    early_stopping = EarlyStopping(monitor=\"loss\", patience = patience)# early stop patience\n",
        "    history = model.fit(X, pd.get_dummies(y).values,\n",
        "              batch_size=batch_size,\n",
        "              epochs=epochs,\n",
        "              callbacks = [early_stopping],\n",
        "              verbose=0) #verbose set to 1 will show the training process\n",
        "    return model"
      ],
      "execution_count": 22,
      "outputs": []
    },
    {
      "cell_type": "code",
      "metadata": {
        "colab": {
          "base_uri": "https://localhost:8080/"
        },
        "id": "M5EE-U66dzwe",
        "outputId": "9a388ce4-429d-49f9-d872-37b2f92c3855"
      },
      "source": [
        "clf = KerasClassifier(build_fn=ANN, verbose=0)\n",
        "scores = cross_val_score(clf, X, y, cv=3,scoring='accuracy')\n",
        "print(\"Accuracy:\"+ str(scores.mean()))"
      ],
      "execution_count": null,
      "outputs": [
        {
          "output_type": "stream",
          "name": "stdout",
          "text": [
            "Accuracy:0.6832671394799054\n"
          ]
        }
      ]
    },
    {
      "cell_type": "markdown",
      "metadata": {
        "id": "hhgGZHHtdzwf"
      },
      "source": [
        "## HPO Algorithm 1: Grid Search\n",
        "Search all the given hyper-parameter configurations\n",
        "\n",
        "**Advantages:**\n",
        "* Simple implementation.  \n",
        "\n",
        "**Disadvantages:**  \n",
        "* Time-consuming,\n",
        "* Only efficient with categorical HPs."
      ]
    },
    {
      "cell_type": "code",
      "metadata": {
        "colab": {
          "base_uri": "https://localhost:8080/"
        },
        "id": "urmi6GO3dzwf",
        "outputId": "c760eab6-b56c-4f84-bee4-5f4af7ac751d"
      },
      "source": [
        "#Random Forest\n",
        "from sklearn.model_selection import GridSearchCV\n",
        "# Define the hyperparameter configuration space\n",
        "rf_params = {\n",
        "    'n_estimators': [10, 20, 30],\n",
        "    #'max_features': ['sqrt',0.5],\n",
        "    'max_depth': [15,20,30,50],\n",
        "    #'min_samples_leaf': [1,2,4,8],\n",
        "    #\"bootstrap\":[True,False],\n",
        "    \"criterion\":['gini','entropy']\n",
        "}\n",
        "clf = RandomForestClassifier(random_state=0)\n",
        "grid = GridSearchCV(clf, rf_params, cv=3, scoring='accuracy')\n",
        "grid.fit(X, y)\n",
        "print(grid.best_params_)\n",
        "print(\"Accuracy:\"+ str(grid.best_score_))"
      ],
      "execution_count": null,
      "outputs": [
        {
          "output_type": "stream",
          "name": "stdout",
          "text": [
            "{'criterion': 'gini', 'max_depth': 15, 'n_estimators': 20}\n",
            "Accuracy:0.994678486997636\n"
          ]
        }
      ]
    },
    {
      "cell_type": "code",
      "metadata": {
        "colab": {
          "base_uri": "https://localhost:8080/"
        },
        "id": "q5uOTfGSdzwh",
        "outputId": "7336ffec-d03d-48a5-d8b9-07e32e1d14b0"
      },
      "source": [
        "#SVM\n",
        "from sklearn.model_selection import GridSearchCV\n",
        "rf_params = {\n",
        "    'C': [1,10, 100],\n",
        "    \"kernel\":['linear','poly','rbf','sigmoid']\n",
        "}\n",
        "clf = SVC(gamma='scale')\n",
        "grid = GridSearchCV(clf, rf_params, cv=3, scoring='accuracy')\n",
        "grid.fit(X, y)\n",
        "print(grid.best_params_)\n",
        "print(\"Accuracy:\"+ str(grid.best_score_))"
      ],
      "execution_count": null,
      "outputs": [
        {
          "output_type": "stream",
          "name": "stdout",
          "text": [
            "{'C': 100, 'kernel': 'poly'}\n",
            "Accuracy:0.8944066193853427\n"
          ]
        }
      ]
    },
    {
      "cell_type": "code",
      "metadata": {
        "colab": {
          "base_uri": "https://localhost:8080/"
        },
        "id": "XQ5yyqiQdzwh",
        "outputId": "060a5356-efc7-4005-fbd9-e58ccac30abe"
      },
      "source": [
        "#KNN\n",
        "from sklearn.model_selection import GridSearchCV\n",
        "rf_params = {\n",
        "    'n_neighbors': [2, 3, 5,10,15,20],\n",
        "}\n",
        "clf = KNeighborsClassifier()\n",
        "grid = GridSearchCV(clf, rf_params, cv=3, scoring='accuracy')\n",
        "grid.fit(X, y)\n",
        "print(grid.best_params_)\n",
        "print(\"Accuracy:\"+ str(grid.best_score_))"
      ],
      "execution_count": null,
      "outputs": [
        {
          "output_type": "stream",
          "name": "stdout",
          "text": [
            "{'n_neighbors': 5}\n",
            "Accuracy:0.8899881796690307\n"
          ]
        }
      ]
    },
    {
      "cell_type": "code",
      "metadata": {
        "id": "2u20ep84dzwi"
      },
      "source": [
        "#ANN\n",
        "from sklearn.model_selection import GridSearchCV\n",
        "rf_params = {\n",
        "    'optimizer': ['adam','rmsprop','sgd'],\n",
        "    'activation': ['relu','tanh'],\n",
        "    'batch_size': [16,32],\n",
        "    'neurons':[16,32],\n",
        "    'epochs':[20,50],\n",
        "    'patience':[2,5]\n",
        "}\n",
        "clf = KerasClassifier(build_fn=ANN, verbose=0)\n",
        "grid = GridSearchCV(clf, rf_params, cv=3,scoring='accuracy')\n",
        "grid.fit(X, y)\n",
        "print(grid.best_params_)\n",
        "print(\"MSE:\"+ str(grid.best_score_))"
      ],
      "execution_count": null,
      "outputs": []
    },
    {
      "cell_type": "markdown",
      "metadata": {
        "id": "utJDnxAwdzwj"
      },
      "source": [
        "## HPO Algorithm 2: Random Search\n",
        "Randomly search hyper-parameter combinations in the search space\n",
        "\n",
        "**Advantages:**\n",
        "* More efficient than GS.\n",
        "* Enable parallelization. \n",
        "\n",
        "**Disadvantages:**  \n",
        "* Not consider previous results.\n",
        "* Not efficient with conditional HPs."
      ]
    },
    {
      "cell_type": "code",
      "metadata": {
        "colab": {
          "base_uri": "https://localhost:8080/"
        },
        "id": "tyya1m3ndzwk",
        "outputId": "a653f569-495e-4058-b49c-46a6f2532b1d"
      },
      "source": [
        "#Random Forest\n",
        "from scipy.stats import randint as sp_randint\n",
        "from random import randrange as sp_randrange\n",
        "from sklearn.model_selection import RandomizedSearchCV\n",
        "# Define the hyperparameter configuration space\n",
        "rf_params = {\n",
        "    'n_estimators': sp_randint(10,100),\n",
        "    \"max_features\":sp_randint(1,64),\n",
        "    'max_depth': sp_randint(5,50),\n",
        "    \"min_samples_split\":sp_randint(2,11),\n",
        "    \"min_samples_leaf\":sp_randint(1,11),\n",
        "    \"criterion\":['gini','entropy']\n",
        "}\n",
        "n_iter_search=20 #number of iterations is set to 20, you can increase this number if time permits\n",
        "clf = RandomForestClassifier(random_state=0)\n",
        "Random = RandomizedSearchCV(clf, param_distributions=rf_params,n_iter=n_iter_search,cv=3,scoring='accuracy')\n",
        "Random.fit(X, y)\n",
        "print(Random.best_params_)\n",
        "print(\"Accuracy:\"+ str(Random.best_score_))"
      ],
      "execution_count": null,
      "outputs": [
        {
          "output_type": "stream",
          "name": "stdout",
          "text": [
            "{'criterion': 'entropy', 'max_depth': 49, 'max_features': 4, 'min_samples_leaf': 3, 'min_samples_split': 3, 'n_estimators': 92}\n",
            "Accuracy:0.9365609348914857\n"
          ]
        }
      ]
    },
    {
      "cell_type": "code",
      "metadata": {
        "colab": {
          "base_uri": "https://localhost:8080/"
        },
        "id": "rcilS6MHdzwl",
        "outputId": "f08e6efb-4ee6-422a-9a8b-5d015cdca66b"
      },
      "source": [
        "#SVM\n",
        "from scipy.stats import randint as sp_randint\n",
        "from sklearn.model_selection import RandomizedSearchCV\n",
        "rf_params = {\n",
        "    'C': stats.uniform(0,50),\n",
        "    \"kernel\":['linear','poly','rbf','sigmoid']\n",
        "}\n",
        "n_iter_search=20\n",
        "clf = SVC(gamma='scale')\n",
        "Random = RandomizedSearchCV(clf, param_distributions=rf_params,n_iter=n_iter_search,cv=3,scoring='accuracy')\n",
        "Random.fit(X, y)\n",
        "print(Random.best_params_)\n",
        "print(\"Accuracy:\"+ str(Random.best_score_))"
      ],
      "execution_count": null,
      "outputs": [
        {
          "output_type": "stream",
          "name": "stdout",
          "text": [
            "{'C': 28.945254265911043, 'kernel': 'rbf'}\n",
            "Accuracy:0.9738452977184195\n"
          ]
        }
      ]
    },
    {
      "cell_type": "code",
      "metadata": {
        "colab": {
          "base_uri": "https://localhost:8080/"
        },
        "id": "hUtDXD_gdzwm",
        "outputId": "9cbf447c-e454-4313-8e00-fc7a0ea68794"
      },
      "source": [
        "#KNN\n",
        "from scipy.stats import randint as sp_randint\n",
        "from sklearn.model_selection import RandomizedSearchCV\n",
        "rf_params = {\n",
        "    'n_neighbors': range(1,20),\n",
        "}\n",
        "n_iter_search=10\n",
        "clf = KNeighborsClassifier()\n",
        "Random = RandomizedSearchCV(clf, param_distributions=rf_params,n_iter=n_iter_search,cv=3,scoring='accuracy')\n",
        "Random.fit(X, y)\n",
        "print(Random.best_params_)\n",
        "print(\"Accuracy:\"+ str(Random.best_score_))"
      ],
      "execution_count": null,
      "outputs": [
        {
          "output_type": "stream",
          "name": "stdout",
          "text": [
            "{'n_neighbors': 3}\n",
            "Accuracy:0.9682804674457429\n"
          ]
        }
      ]
    },
    {
      "cell_type": "code",
      "metadata": {
        "colab": {
          "base_uri": "https://localhost:8080/"
        },
        "id": "1mnJa_bbdzwn",
        "outputId": "6ec45ef4-badf-46f3-9f21-f9a9defc352a"
      },
      "source": [
        "#ANN\n",
        "from scipy.stats import randint as sp_randint\n",
        "from random import randrange as sp_randrange\n",
        "from sklearn.model_selection import RandomizedSearchCV\n",
        "rf_params = {\n",
        "    'optimizer': ['adam','rmsprop','sgd'],\n",
        "    'activation': ['relu','tanh'],\n",
        "    'batch_size': [16,32,64],\n",
        "    'neurons':sp_randint(10,100),\n",
        "    'epochs':[20,50],\n",
        "    #'epochs':[20,50,100,200],\n",
        "    'patience':sp_randint(3,20)\n",
        "}\n",
        "n_iter_search=10\n",
        "clf = KerasClassifier(build_fn=ANN, verbose=0)\n",
        "Random = RandomizedSearchCV(clf, param_distributions=rf_params,n_iter=n_iter_search,cv=3,scoring='accuracy')\n",
        "Random.fit(X, y)\n",
        "print(Random.best_params_)\n",
        "print(\"Accuracy:\"+ str(Random.best_score_))"
      ],
      "execution_count": null,
      "outputs": [
        {
          "output_type": "stream",
          "name": "stdout",
          "text": [
            "{'activation': 'tanh', 'batch_size': 32, 'epochs': 20, 'neurons': 77, 'optimizer': 'adam', 'patience': 3}\n",
            "Accuracy:1.0\n"
          ]
        }
      ]
    },
    {
      "cell_type": "markdown",
      "metadata": {
        "id": "qyYHhSJ5dzwn"
      },
      "source": [
        "## HPO Algorithm 3: Hyperband\n",
        "Generate small-sized subsets and allocate budgets to each hyper-parameter combination based on its performance\n",
        "\n",
        "**Advantages:**\n",
        "* Enable parallelization.  \n",
        "\n",
        "**Disadvantages:**  \n",
        "* Not efficient with conditional HPs.\n",
        "* Require subsets with small budgets to be representative."
      ]
    },
    {
      "cell_type": "code",
      "metadata": {
        "id": "2nL1ZNOvz_LM",
        "colab": {
          "base_uri": "https://localhost:8080/"
        },
        "outputId": "02f27f6d-2cfc-4436-c5f9-4a8b73c68408"
      },
      "source": [
        "! pip install  --upgrade pip\n",
        "! pip install scikit-optimize"
      ],
      "execution_count": null,
      "outputs": [
        {
          "output_type": "stream",
          "name": "stdout",
          "text": [
            "Requirement already satisfied: pip in /usr/local/lib/python3.7/dist-packages (21.1.3)\n",
            "Collecting pip\n",
            "  Downloading pip-21.2.4-py3-none-any.whl (1.6 MB)\n",
            "\u001b[K     |████████████████████████████████| 1.6 MB 5.0 MB/s \n",
            "\u001b[?25hInstalling collected packages: pip\n",
            "  Attempting uninstall: pip\n",
            "    Found existing installation: pip 21.1.3\n",
            "    Uninstalling pip-21.1.3:\n",
            "      Successfully uninstalled pip-21.1.3\n",
            "Successfully installed pip-21.2.4\n",
            "Collecting scikit-optimize\n",
            "  Downloading scikit_optimize-0.8.1-py2.py3-none-any.whl (101 kB)\n",
            "\u001b[K     |████████████████████████████████| 101 kB 3.6 MB/s \n",
            "\u001b[?25hRequirement already satisfied: numpy>=1.13.3 in /usr/local/lib/python3.7/dist-packages (from scikit-optimize) (1.19.5)\n",
            "Requirement already satisfied: scipy>=0.19.1 in /usr/local/lib/python3.7/dist-packages (from scikit-optimize) (1.4.1)\n",
            "Collecting pyaml>=16.9\n",
            "  Downloading pyaml-21.8.3-py2.py3-none-any.whl (17 kB)\n",
            "Requirement already satisfied: joblib>=0.11 in /usr/local/lib/python3.7/dist-packages (from scikit-optimize) (1.0.1)\n",
            "Requirement already satisfied: scikit-learn>=0.20.0 in /usr/local/lib/python3.7/dist-packages (from scikit-optimize) (0.22.2.post1)\n",
            "Requirement already satisfied: PyYAML in /usr/local/lib/python3.7/dist-packages (from pyaml>=16.9->scikit-optimize) (3.13)\n",
            "Installing collected packages: pyaml, scikit-optimize\n",
            "Successfully installed pyaml-21.8.3 scikit-optimize-0.8.1\n",
            "\u001b[33mWARNING: Running pip as the 'root' user can result in broken permissions and conflicting behaviour with the system package manager. It is recommended to use a virtual environment instead: https://pip.pypa.io/warnings/venv\u001b[0m\n"
          ]
        }
      ]
    },
    {
      "cell_type": "code",
      "metadata": {
        "colab": {
          "base_uri": "https://localhost:8080/"
        },
        "id": "_HQV_mffqDA5",
        "outputId": "c1b561f7-64bd-42be-a47e-6f347546a215"
      },
      "source": [
        "# ! git clone https://github.com/thuijskens/scikit-hyperband.git\n",
        "# !cd scikit-hyperband\n",
        "!python ./scikit-hyperband/setup.py install"
      ],
      "execution_count": 4,
      "outputs": [
        {
          "output_type": "stream",
          "name": "stdout",
          "text": [
            "running install\n",
            "running bdist_egg\n",
            "running egg_info\n",
            "creating scikit_hyperband.egg-info\n",
            "writing scikit_hyperband.egg-info/PKG-INFO\n",
            "writing dependency_links to scikit_hyperband.egg-info/dependency_links.txt\n",
            "writing requirements to scikit_hyperband.egg-info/requires.txt\n",
            "writing top-level names to scikit_hyperband.egg-info/top_level.txt\n",
            "writing manifest file 'scikit_hyperband.egg-info/SOURCES.txt'\n",
            "reading manifest file 'scikit_hyperband.egg-info/SOURCES.txt'\n",
            "writing manifest file 'scikit_hyperband.egg-info/SOURCES.txt'\n",
            "installing library code to build/bdist.linux-x86_64/egg\n",
            "running install_lib\n",
            "warning: install_lib: 'build/lib' does not exist -- no Python modules to install\n",
            "\n",
            "creating build\n",
            "creating build/bdist.linux-x86_64\n",
            "creating build/bdist.linux-x86_64/egg\n",
            "creating build/bdist.linux-x86_64/egg/EGG-INFO\n",
            "copying scikit_hyperband.egg-info/PKG-INFO -> build/bdist.linux-x86_64/egg/EGG-INFO\n",
            "copying scikit_hyperband.egg-info/SOURCES.txt -> build/bdist.linux-x86_64/egg/EGG-INFO\n",
            "copying scikit_hyperband.egg-info/dependency_links.txt -> build/bdist.linux-x86_64/egg/EGG-INFO\n",
            "copying scikit_hyperband.egg-info/requires.txt -> build/bdist.linux-x86_64/egg/EGG-INFO\n",
            "copying scikit_hyperband.egg-info/top_level.txt -> build/bdist.linux-x86_64/egg/EGG-INFO\n",
            "zip_safe flag not set; analyzing archive contents...\n",
            "creating dist\n",
            "creating 'dist/scikit_hyperband-0.0.1-py3.7.egg' and adding 'build/bdist.linux-x86_64/egg' to it\n",
            "removing 'build/bdist.linux-x86_64/egg' (and everything under it)\n",
            "Processing scikit_hyperband-0.0.1-py3.7.egg\n",
            "Copying scikit_hyperband-0.0.1-py3.7.egg to /usr/local/lib/python3.7/dist-packages\n",
            "Adding scikit-hyperband 0.0.1 to easy-install.pth file\n",
            "\n",
            "Installed /usr/local/lib/python3.7/dist-packages/scikit_hyperband-0.0.1-py3.7.egg\n",
            "Processing dependencies for scikit-hyperband==0.0.1\n",
            "Searching for nose>=1.1.2\n",
            "Reading https://pypi.org/simple/nose/\n",
            "Downloading https://files.pythonhosted.org/packages/15/d8/dd071918c040f50fa1cf80da16423af51ff8ce4a0f2399b7bf8de45ac3d9/nose-1.3.7-py3-none-any.whl#sha256=9ff7c6cc443f8c51994b34a667bbcf45afd6d945be7477b52e97516fd17c53ac\n",
            "Best match: nose 1.3.7\n",
            "Processing nose-1.3.7-py3-none-any.whl\n",
            "Installing nose-1.3.7-py3-none-any.whl to /usr/local/lib/python3.7/dist-packages\n",
            "Adding nose 1.3.7 to easy-install.pth file\n",
            "Installing nosetests script to /usr/local/bin\n",
            "Installing nosetests-3.4 script to /usr/local/bin\n",
            "\n",
            "Installed /usr/local/lib/python3.7/dist-packages/nose-1.3.7-py3.7.egg\n",
            "Searching for numpy==1.19.5\n",
            "Best match: numpy 1.19.5\n",
            "Adding numpy 1.19.5 to easy-install.pth file\n",
            "Installing f2py script to /usr/local/bin\n",
            "Installing f2py3 script to /usr/local/bin\n",
            "Installing f2py3.7 script to /usr/local/bin\n",
            "\n",
            "Using /usr/local/lib/python3.7/dist-packages\n",
            "Searching for scikit-learn==0.22.2.post1\n",
            "Best match: scikit-learn 0.22.2.post1\n",
            "Adding scikit-learn 0.22.2.post1 to easy-install.pth file\n",
            "\n",
            "Using /usr/local/lib/python3.7/dist-packages\n",
            "Searching for scipy==1.4.1\n",
            "Best match: scipy 1.4.1\n",
            "Adding scipy 1.4.1 to easy-install.pth file\n",
            "\n",
            "Using /usr/local/lib/python3.7/dist-packages\n",
            "Searching for joblib==1.0.1\n",
            "Best match: joblib 1.0.1\n",
            "Adding joblib 1.0.1 to easy-install.pth file\n",
            "\n",
            "Using /usr/local/lib/python3.7/dist-packages\n",
            "Finished processing dependencies for scikit-hyperband==0.0.1\n"
          ]
        }
      ]
    },
    {
      "cell_type": "code",
      "metadata": {
        "colab": {
          "base_uri": "https://localhost:8080/"
        },
        "id": "S1AyrMxhdzwo",
        "outputId": "69bf7e3e-480c-4943-a634-2a5d9b5002ac"
      },
      "source": [
        "#Random Forest\n",
        "from hyperband import HyperbandSearchCV\n",
        "from scipy.stats import randint as sp_randint\n",
        "from random import randrange as sp_randrange\n",
        "# Define the hyperparameter configuration space\n",
        "rf_params = {\n",
        "    'n_estimators': sp_randint(10,100),\n",
        "    \"max_features\":sp_randint(1,23),\n",
        "    'max_depth': sp_randint(5,50),\n",
        "    \"min_samples_split\":sp_randint(2,11),\n",
        "    \"min_samples_leaf\":sp_randint(1,11),\n",
        "    \"criterion\":['gini','entropy']\n",
        "}\n",
        "clf = RandomForestClassifier(random_state=0)\n",
        "hyper = HyperbandSearchCV(clf, param_distributions =rf_params,cv=3,min_iter=10,max_iter=100,scoring='accuracy')\n",
        "hyper.fit(X, y)\n",
        "print(hyper.best_params_)\n",
        "print(\"Accuracy:\"+ str(hyper.best_score_))"
      ],
      "execution_count": 17,
      "outputs": [
        {
          "output_type": "stream",
          "name": "stderr",
          "text": [
            "/usr/local/lib/python3.7/dist-packages/sklearn/model_selection/_search.py:823: FutureWarning: The parameter 'iid' is deprecated in 0.22 and will be removed in 0.24.\n",
            "  \"removed in 0.24.\", FutureWarning\n",
            "/usr/local/lib/python3.7/dist-packages/sklearn/model_selection/_search.py:823: FutureWarning: The parameter 'iid' is deprecated in 0.22 and will be removed in 0.24.\n",
            "  \"removed in 0.24.\", FutureWarning\n",
            "/usr/local/lib/python3.7/dist-packages/sklearn/model_selection/_search.py:823: FutureWarning: The parameter 'iid' is deprecated in 0.22 and will be removed in 0.24.\n",
            "  \"removed in 0.24.\", FutureWarning\n",
            "/usr/local/lib/python3.7/dist-packages/sklearn/model_selection/_search.py:823: FutureWarning: The parameter 'iid' is deprecated in 0.22 and will be removed in 0.24.\n",
            "  \"removed in 0.24.\", FutureWarning\n",
            "/usr/local/lib/python3.7/dist-packages/sklearn/model_selection/_search.py:823: FutureWarning: The parameter 'iid' is deprecated in 0.22 and will be removed in 0.24.\n",
            "  \"removed in 0.24.\", FutureWarning\n"
          ]
        },
        {
          "output_type": "stream",
          "name": "stdout",
          "text": [
            "{'criterion': 'entropy', 'max_depth': 33, 'max_features': 5, 'min_samples_leaf': 5, 'min_samples_split': 9, 'n_estimators': 11}\n",
            "Accuracy:0.9946761313220941\n"
          ]
        },
        {
          "output_type": "stream",
          "name": "stderr",
          "text": [
            "/usr/local/lib/python3.7/dist-packages/sklearn/model_selection/_search.py:823: FutureWarning: The parameter 'iid' is deprecated in 0.22 and will be removed in 0.24.\n",
            "  \"removed in 0.24.\", FutureWarning\n"
          ]
        }
      ]
    },
    {
      "cell_type": "code",
      "metadata": {
        "colab": {
          "base_uri": "https://localhost:8080/"
        },
        "id": "kCQzn-Dndzwp",
        "outputId": "f036f283-ab80-41da-963c-ef8b35216ba3"
      },
      "source": [
        "#SVM\n",
        "from hyperband import HyperbandSearchCV\n",
        "from scipy.stats import randint as sp_randint\n",
        "from random import randrange as sp_randrange\n",
        "rf_params = {\n",
        "    'C': stats.uniform(0,50),\n",
        "    \"kernel\":['linear','poly','rbf','sigmoid']\n",
        "}\n",
        "clf = SVC(gamma='scale')\n",
        "hyper = HyperbandSearchCV(clf, param_distributions =rf_params,cv=3,min_iter=1,max_iter=50,scoring='accuracy',resource_param='C')\n",
        "hyper.fit(X, y)\n",
        "print(hyper.best_params_)\n",
        "print(\"Accuracy:\"+ str(hyper.best_score_))"
      ],
      "execution_count": 18,
      "outputs": [
        {
          "output_type": "stream",
          "name": "stderr",
          "text": [
            "/usr/local/lib/python3.7/dist-packages/sklearn/model_selection/_search.py:823: FutureWarning: The parameter 'iid' is deprecated in 0.22 and will be removed in 0.24.\n",
            "  \"removed in 0.24.\", FutureWarning\n",
            "/usr/local/lib/python3.7/dist-packages/sklearn/model_selection/_search.py:823: FutureWarning: The parameter 'iid' is deprecated in 0.22 and will be removed in 0.24.\n",
            "  \"removed in 0.24.\", FutureWarning\n",
            "/usr/local/lib/python3.7/dist-packages/sklearn/model_selection/_search.py:823: FutureWarning: The parameter 'iid' is deprecated in 0.22 and will be removed in 0.24.\n",
            "  \"removed in 0.24.\", FutureWarning\n",
            "/usr/local/lib/python3.7/dist-packages/sklearn/model_selection/_search.py:823: FutureWarning: The parameter 'iid' is deprecated in 0.22 and will be removed in 0.24.\n",
            "  \"removed in 0.24.\", FutureWarning\n",
            "/usr/local/lib/python3.7/dist-packages/sklearn/model_selection/_search.py:823: FutureWarning: The parameter 'iid' is deprecated in 0.22 and will be removed in 0.24.\n",
            "  \"removed in 0.24.\", FutureWarning\n",
            "/usr/local/lib/python3.7/dist-packages/sklearn/model_selection/_search.py:823: FutureWarning: The parameter 'iid' is deprecated in 0.22 and will be removed in 0.24.\n",
            "  \"removed in 0.24.\", FutureWarning\n",
            "/usr/local/lib/python3.7/dist-packages/sklearn/model_selection/_search.py:823: FutureWarning: The parameter 'iid' is deprecated in 0.22 and will be removed in 0.24.\n",
            "  \"removed in 0.24.\", FutureWarning\n",
            "/usr/local/lib/python3.7/dist-packages/sklearn/model_selection/_search.py:823: FutureWarning: The parameter 'iid' is deprecated in 0.22 and will be removed in 0.24.\n",
            "  \"removed in 0.24.\", FutureWarning\n",
            "/usr/local/lib/python3.7/dist-packages/sklearn/model_selection/_search.py:823: FutureWarning: The parameter 'iid' is deprecated in 0.22 and will be removed in 0.24.\n",
            "  \"removed in 0.24.\", FutureWarning\n"
          ]
        },
        {
          "output_type": "stream",
          "name": "stdout",
          "text": [
            "{'C': 50, 'kernel': 'poly'}\n",
            "Accuracy:0.8544809228039042\n"
          ]
        },
        {
          "output_type": "stream",
          "name": "stderr",
          "text": [
            "/usr/local/lib/python3.7/dist-packages/sklearn/model_selection/_search.py:823: FutureWarning: The parameter 'iid' is deprecated in 0.22 and will be removed in 0.24.\n",
            "  \"removed in 0.24.\", FutureWarning\n"
          ]
        }
      ]
    },
    {
      "cell_type": "code",
      "metadata": {
        "id": "m1sqWo4Pdzwp",
        "colab": {
          "base_uri": "https://localhost:8080/"
        },
        "outputId": "5016be2e-30c0-4f95-acfa-7422ca715f1e"
      },
      "source": [
        "#KNN\n",
        "from hyperband import HyperbandSearchCV\n",
        "from scipy.stats import randint as sp_randint\n",
        "from random import randrange as sp_randrange\n",
        "rf_params = {\n",
        "    'n_neighbors': range(1,20),\n",
        "}\n",
        "clf = KNeighborsClassifier()\n",
        "hyper = HyperbandSearchCV(clf, param_distributions =rf_params,cv=3,min_iter=1,max_iter=20,scoring='accuracy',resource_param='n_neighbors')\n",
        "hyper.fit(X, y)\n",
        "print(hyper.best_params_)\n",
        "print(\"Accuracy:\"+ str(hyper.best_score_))"
      ],
      "execution_count": 19,
      "outputs": [
        {
          "output_type": "stream",
          "name": "stderr",
          "text": [
            "/usr/local/lib/python3.7/dist-packages/sklearn/model_selection/_search.py:823: FutureWarning: The parameter 'iid' is deprecated in 0.22 and will be removed in 0.24.\n",
            "  \"removed in 0.24.\", FutureWarning\n",
            "/usr/local/lib/python3.7/dist-packages/sklearn/model_selection/_search.py:823: FutureWarning: The parameter 'iid' is deprecated in 0.22 and will be removed in 0.24.\n",
            "  \"removed in 0.24.\", FutureWarning\n",
            "/usr/local/lib/python3.7/dist-packages/sklearn/model_selection/_search.py:823: FutureWarning: The parameter 'iid' is deprecated in 0.22 and will be removed in 0.24.\n",
            "  \"removed in 0.24.\", FutureWarning\n",
            "/usr/local/lib/python3.7/dist-packages/sklearn/model_selection/_search.py:823: FutureWarning: The parameter 'iid' is deprecated in 0.22 and will be removed in 0.24.\n",
            "  \"removed in 0.24.\", FutureWarning\n",
            "/usr/local/lib/python3.7/dist-packages/sklearn/model_selection/_search.py:823: FutureWarning: The parameter 'iid' is deprecated in 0.22 and will be removed in 0.24.\n",
            "  \"removed in 0.24.\", FutureWarning\n"
          ]
        },
        {
          "output_type": "stream",
          "name": "stdout",
          "text": [
            "{'n_neighbors': 6}\n",
            "Accuracy:0.8846495119787046\n"
          ]
        },
        {
          "output_type": "stream",
          "name": "stderr",
          "text": [
            "/usr/local/lib/python3.7/dist-packages/sklearn/model_selection/_search.py:823: FutureWarning: The parameter 'iid' is deprecated in 0.22 and will be removed in 0.24.\n",
            "  \"removed in 0.24.\", FutureWarning\n"
          ]
        }
      ]
    },
    {
      "cell_type": "code",
      "metadata": {
        "id": "5lMTN_Kcdzwq",
        "colab": {
          "base_uri": "https://localhost:8080/"
        },
        "outputId": "3d63f92a-dcc7-46a1-8fdf-160f33884632"
      },
      "source": [
        "#ANN\n",
        "from hyperband import HyperbandSearchCV\n",
        "from scipy.stats import randint as sp_randint\n",
        "rf_params = {\n",
        "    'optimizer': ['adam','rmsprop','sgd'],\n",
        "    'activation': ['relu','tanh'],\n",
        "    'batch_size': [16,32,64],\n",
        "    'neurons':sp_randint(10,100),\n",
        "    'epochs':[20,50],\n",
        "    #'epochs':[20,50,100,200],\n",
        "    'patience':sp_randint(3,20)\n",
        "}\n",
        "clf = KerasClassifier(build_fn=ANN, epochs=20, verbose=0)\n",
        "hyper = HyperbandSearchCV(clf, param_distributions =rf_params,cv=3,min_iter=1,max_iter=10,scoring='accuracy',resource_param='epochs')\n",
        "hyper.fit(X, y)\n",
        "print(hyper.best_params_)\n",
        "print(\"Accuracy:\"+ str(hyper.best_score_))"
      ],
      "execution_count": 23,
      "outputs": [
        {
          "output_type": "stream",
          "name": "stderr",
          "text": [
            "/usr/local/lib/python3.7/dist-packages/sklearn/model_selection/_search.py:823: FutureWarning: The parameter 'iid' is deprecated in 0.22 and will be removed in 0.24.\n",
            "  \"removed in 0.24.\", FutureWarning\n"
          ]
        },
        {
          "output_type": "stream",
          "name": "stdout",
          "text": [
            "{'activation': 'tanh', 'batch_size': 64, 'epochs': 10, 'neurons': 87, 'optimizer': 'adam', 'patience': 13}\n",
            "Accuracy:0.6947648624667259\n"
          ]
        }
      ]
    },
    {
      "cell_type": "markdown",
      "metadata": {
        "id": "N_81VdGtdzwr"
      },
      "source": [
        "## HPO Algorithm 4: BO-GP\n",
        "Bayesian Optimization with Gaussian Process (BO-GP)\n",
        "\n",
        "**Advantages:**\n",
        "* Fast convergence speed for continuous HPs.  \n",
        "\n",
        "**Disadvantages:**  \n",
        "* Poor capacity for parallelization.\n",
        "* Not efficient with conditional HPs."
      ]
    },
    {
      "cell_type": "markdown",
      "metadata": {
        "id": "A8V0dV1yh78I"
      },
      "source": [
        "# Nouvelle section"
      ]
    },
    {
      "cell_type": "markdown",
      "metadata": {
        "id": "3BS-dqmgdzws"
      },
      "source": [
        "### Using skopt.BayesSearchCV"
      ]
    },
    {
      "cell_type": "code",
      "metadata": {
        "colab": {
          "base_uri": "https://localhost:8080/"
        },
        "id": "m7qFtFw0dzws",
        "outputId": "d3df74f6-7595-47e8-96d8-d7a330b71fc8"
      },
      "source": [
        "#Random Forest\n",
        "from skopt import Optimizer\n",
        "from skopt import BayesSearchCV \n",
        "from skopt.space import Real, Categorical, Integer\n",
        "# Define the hyperparameter configuration space\n",
        "rf_params = {\n",
        "    'n_estimators': Integer(10,100),\n",
        "    \"max_features\":Integer(1,23),\n",
        "    'max_depth': Integer(5,50),\n",
        "    \"min_samples_split\":Integer(2,11),\n",
        "    \"min_samples_leaf\":Integer(1,11),\n",
        "    \"criterion\":['gini','entropy']\n",
        "}\n",
        "clf = RandomForestClassifier(random_state=0)\n",
        "Bayes = BayesSearchCV(clf, rf_params,cv=3,n_iter=20, n_jobs=-1,scoring='accuracy')\n",
        "#number of iterations is set to 20, you can increase this number if time permits\n",
        "Bayes.fit(X, y)\n",
        "print(Bayes.best_params_)\n",
        "bclf = Bayes.best_estimator_\n",
        "print(\"Accuracy:\"+ str(Bayes.best_score_))"
      ],
      "execution_count": 25,
      "outputs": [
        {
          "output_type": "stream",
          "name": "stderr",
          "text": [
            "/usr/local/lib/python3.7/dist-packages/skopt/optimizer/optimizer.py:449: UserWarning: The objective has been evaluated at this point before.\n",
            "  warnings.warn(\"The objective has been evaluated \"\n"
          ]
        },
        {
          "output_type": "stream",
          "name": "stdout",
          "text": [
            "OrderedDict([('criterion', 'gini'), ('max_depth', 19), ('max_features', 5), ('min_samples_leaf', 2), ('min_samples_split', 5), ('n_estimators', 46)])\n",
            "Accuracy:0.9946761313220941\n"
          ]
        }
      ]
    },
    {
      "cell_type": "code",
      "metadata": {
        "colab": {
          "base_uri": "https://localhost:8080/"
        },
        "id": "5QJVzLx9dzwt",
        "outputId": "bd89ef0e-05ec-427b-c057-6e19cd725ff5"
      },
      "source": [
        "#SVM\n",
        "from skopt import Optimizer\n",
        "from skopt import BayesSearchCV \n",
        "from skopt.space import Real, Categorical, Integer\n",
        "rf_params = {\n",
        "    'C': Real(0.01,50),\n",
        "    \"kernel\":['linear','poly','rbf','sigmoid']\n",
        "}\n",
        "clf = SVC(gamma='scale')\n",
        "Bayes = BayesSearchCV(clf, rf_params,cv=3,n_iter=20, n_jobs=-1,scoring='accuracy')\n",
        "Bayes.fit(X, y)\n",
        "print(Bayes.best_params_)\n",
        "bclf = Bayes.best_estimator_\n",
        "print(\"Accuracy:\"+ str(Bayes.best_score_))"
      ],
      "execution_count": 26,
      "outputs": [
        {
          "output_type": "stream",
          "name": "stderr",
          "text": [
            "/usr/local/lib/python3.7/dist-packages/skopt/optimizer/optimizer.py:449: UserWarning: The objective has been evaluated at this point before.\n",
            "  warnings.warn(\"The objective has been evaluated \"\n",
            "/usr/local/lib/python3.7/dist-packages/skopt/optimizer/optimizer.py:449: UserWarning: The objective has been evaluated at this point before.\n",
            "  warnings.warn(\"The objective has been evaluated \"\n",
            "/usr/local/lib/python3.7/dist-packages/skopt/optimizer/optimizer.py:449: UserWarning: The objective has been evaluated at this point before.\n",
            "  warnings.warn(\"The objective has been evaluated \"\n",
            "/usr/local/lib/python3.7/dist-packages/skopt/optimizer/optimizer.py:449: UserWarning: The objective has been evaluated at this point before.\n",
            "  warnings.warn(\"The objective has been evaluated \"\n",
            "/usr/local/lib/python3.7/dist-packages/skopt/optimizer/optimizer.py:449: UserWarning: The objective has been evaluated at this point before.\n",
            "  warnings.warn(\"The objective has been evaluated \"\n",
            "/usr/local/lib/python3.7/dist-packages/skopt/optimizer/optimizer.py:449: UserWarning: The objective has been evaluated at this point before.\n",
            "  warnings.warn(\"The objective has been evaluated \"\n",
            "/usr/local/lib/python3.7/dist-packages/skopt/optimizer/optimizer.py:449: UserWarning: The objective has been evaluated at this point before.\n",
            "  warnings.warn(\"The objective has been evaluated \"\n"
          ]
        },
        {
          "output_type": "stream",
          "name": "stdout",
          "text": [
            "OrderedDict([('C', 50.0), ('kernel', 'poly')])\n",
            "Accuracy:0.8544809228039042\n"
          ]
        }
      ]
    },
    {
      "cell_type": "code",
      "metadata": {
        "colab": {
          "base_uri": "https://localhost:8080/"
        },
        "id": "cSSkeNoYdzwt",
        "outputId": "a9b1e480-07ef-4cf3-d4f1-a004a68c9ea0"
      },
      "source": [
        "#KNN\n",
        "from skopt import Optimizer\n",
        "from skopt import BayesSearchCV \n",
        "from skopt.space import Real, Categorical, Integer\n",
        "rf_params = {\n",
        "    'n_neighbors': Integer(1,20),\n",
        "}\n",
        "clf = KNeighborsClassifier()\n",
        "Bayes = BayesSearchCV(clf, rf_params,cv=3,n_iter=10, n_jobs=-1,scoring='accuracy')\n",
        "Bayes.fit(X, y)\n",
        "print(Bayes.best_params_)\n",
        "bclf = Bayes.best_estimator_\n",
        "print(\"Accuracy:\"+ str(Bayes.best_score_))"
      ],
      "execution_count": 27,
      "outputs": [
        {
          "output_type": "stream",
          "name": "stdout",
          "text": [
            "OrderedDict([('n_neighbors', 7)])\n",
            "Accuracy:0.8864241348713399\n"
          ]
        }
      ]
    },
    {
      "cell_type": "code",
      "metadata": {
        "colab": {
          "base_uri": "https://localhost:8080/"
        },
        "id": "YjqjlZradzwu",
        "outputId": "5d88acc9-7d58-430b-8abe-c17f5b6187d5"
      },
      "source": [
        "#ANN\n",
        "from skopt import Optimizer\n",
        "from skopt import BayesSearchCV \n",
        "from skopt.space import Real, Categorical, Integer\n",
        "rf_params = {\n",
        "    'optimizer': ['adam','rmsprop','sgd'],\n",
        "    'activation': ['relu','tanh'],\n",
        "    'batch_size': [16,32,64],\n",
        "    'neurons':Integer(10,100),\n",
        "    'epochs':[20,50],\n",
        "    #'epochs':[20,50,100,200],\n",
        "    'patience':Integer(3,20)\n",
        "}\n",
        "clf = KerasClassifier(build_fn=ANN, verbose=0)\n",
        "Bayes = BayesSearchCV(clf, rf_params,cv=3,n_iter=10, scoring='accuracy')\n",
        "Bayes.fit(X, y)\n",
        "print(Bayes.best_params_)\n",
        "print(\"Accuracy:\"+ str(Bayes.best_score_))"
      ],
      "execution_count": 28,
      "outputs": [
        {
          "output_type": "stream",
          "name": "stdout",
          "text": [
            "OrderedDict([('activation', 'relu'), ('batch_size', 16), ('epochs', 44), ('neurons', 80), ('optimizer', 'adam'), ('patience', 16)])\n",
            "Accuracy:0.8296362023070097\n"
          ]
        }
      ]
    },
    {
      "cell_type": "markdown",
      "metadata": {
        "id": "Bpydbc5Adzwv"
      },
      "source": [
        "### Using skopt.gp_minimize"
      ]
    },
    {
      "cell_type": "code",
      "metadata": {
        "id": "OX9SdeGkdzwv"
      },
      "source": [
        "#Random Forest\n",
        "from skopt.space import Real, Integer\n",
        "from skopt.utils import use_named_args\n",
        "\n",
        "reg = RandomForestClassifier()\n",
        "# Define the hyperparameter configuration space\n",
        "space  = [Integer(10, 100, name='n_estimators'),\n",
        "            Integer(5, 50, name='max_depth'),\n",
        "          Integer(1, 23, name='max_features'),\n",
        "          Integer(2, 11, name='min_samples_split'),\n",
        "          Integer(1, 11, name='min_samples_leaf'),\n",
        "         Categorical(['gini', 'entropy'], name='criterion'),]\n",
        "# Define the objective function\n",
        "@use_named_args(space)\n",
        "def objective(**params):\n",
        "    reg.set_params(**params)\n",
        "\n",
        "    return -np.mean(cross_val_score(reg, X, y, cv=3, n_jobs=-1,\n",
        "                                    scoring=\"accuracy\"))\n",
        "from skopt import gp_minimize\n",
        "res_gp = gp_minimize(objective, space, n_calls=20, random_state=0)\n",
        "print(\"Accuracy:%.4f\" % -res_gp.fun)\n",
        "print(res_gp.x)"
      ],
      "execution_count": null,
      "outputs": []
    },
    {
      "cell_type": "code",
      "metadata": {
        "id": "u8X4YCXjdzww"
      },
      "source": [
        "#SVM\n",
        "from skopt.space import Real, Integer\n",
        "from skopt.utils import use_named_args\n",
        "\n",
        "reg = SVC(gamma='scale')\n",
        "space  = [Real(0.01, 50, name='C'),\n",
        "          Categorical(['linear','poly','rbf','sigmoid'], name='kernel'),\n",
        "         ]\n",
        "\n",
        "@use_named_args(space)\n",
        "def objective(**params):\n",
        "    reg.set_params(**params)\n",
        "\n",
        "    return -np.mean(cross_val_score(reg, X, y, cv=3, n_jobs=-1,\n",
        "                                    scoring=\"accuracy\"))\n",
        "from skopt import gp_minimize\n",
        "res_gp = gp_minimize(objective, space, n_calls=20, random_state=0)\n",
        "print(\"Accuracy:%.4f\" % -res_gp.fun)\n",
        "print(res_gp.x)"
      ],
      "execution_count": null,
      "outputs": []
    },
    {
      "cell_type": "code",
      "metadata": {
        "id": "IpMlpvGodzww"
      },
      "source": [
        "#KNN\n",
        "from skopt.space import Real, Integer\n",
        "from skopt.utils import use_named_args\n",
        "\n",
        "reg = KNeighborsClassifier()\n",
        "space  = [Integer(1, 20, name='n_neighbors')]\n",
        "\n",
        "@use_named_args(space)\n",
        "def objective(**params):\n",
        "    reg.set_params(**params)\n",
        "\n",
        "    return -np.mean(cross_val_score(reg, X, y, cv=3, n_jobs=-1,\n",
        "                                    scoring=\"accuracy\"))\n",
        "from skopt import gp_minimize\n",
        "res_gp = gp_minimize(objective, space, n_calls=10, random_state=0)\n",
        "print(\"Accuracy:%.4f\" % -res_gp.fun)\n",
        "print(res_gp.x)"
      ],
      "execution_count": null,
      "outputs": []
    },
    {
      "cell_type": "markdown",
      "metadata": {
        "id": "uqDDovVxdzwx"
      },
      "source": [
        "## HPO Algorithm 5: BO-TPE\n",
        "Bayesian Optimization with Tree-structured Parzen Estimator (TPE)\n",
        "\n",
        "**Advantages:**\n",
        "* Efficient with all types of HPs.\n",
        "* Keep conditional dependencies.\n",
        "\n",
        "**Disadvantages:**  \n",
        "* Poor capacity for parallelization."
      ]
    },
    {
      "cell_type": "code",
      "metadata": {
        "scrolled": true,
        "id": "oAEfts6ldzwy"
      },
      "source": [
        "#Random Forest\n",
        "from hyperopt import hp, fmin, tpe, STATUS_OK, Trials\n",
        "from sklearn.model_selection import cross_val_score, StratifiedKFold\n",
        "# Define the objective function\n",
        "def objective(params):\n",
        "    params = {\n",
        "        'n_estimators': int(params['n_estimators']), \n",
        "        'max_depth': int(params['max_depth']),\n",
        "        'max_features': int(params['max_features']),\n",
        "        \"min_samples_split\":int(params['min_samples_split']),\n",
        "        \"min_samples_leaf\":int(params['min_samples_leaf']),\n",
        "        \"criterion\":str(params['criterion'])\n",
        "    }\n",
        "    clf = RandomForestClassifier( **params)\n",
        "    score = cross_val_score(clf, X, y, scoring='accuracy', cv=StratifiedKFold(n_splits=3)).mean()\n",
        "    #print(\"ROC-AUC {:.3f} params {}\".format(score, params))\n",
        "\n",
        "    return {'loss':-score, 'status': STATUS_OK }\n",
        "# Define the hyperparameter configuration space\n",
        "space = {\n",
        "    'n_estimators': hp.quniform('n_estimators', 10, 100, 1),\n",
        "    'max_depth': hp.quniform('max_depth', 5, 50, 1),\n",
        "    \"max_features\":hp.quniform('max_features', 1, 23, 1),\n",
        "    \"min_samples_split\":hp.quniform('min_samples_split',2,11,1),\n",
        "    \"min_samples_leaf\":hp.quniform('min_samples_leaf',1,11,1),\n",
        "    \"criterion\":hp.choice('criterion',['gini','entropy'])\n",
        "}\n",
        "\n",
        "best = fmin(fn=objective,\n",
        "            space=space,\n",
        "            algo=tpe.suggest,\n",
        "            max_evals=20)\n",
        "print(\"Random Forest: Hyperopt estimated optimum {}\".format(best))"
      ],
      "execution_count": null,
      "outputs": []
    },
    {
      "cell_type": "code",
      "metadata": {
        "scrolled": true,
        "id": "vJ3l6FsWdzwy"
      },
      "source": [
        "#SVM\n",
        "from hyperopt import hp, fmin, tpe, STATUS_OK, Trials\n",
        "from sklearn.model_selection import cross_val_score, StratifiedKFold\n",
        "def objective(params):\n",
        "    params = {\n",
        "        'C': abs(float(params['C'])), \n",
        "        \"kernel\":str(params['kernel'])\n",
        "    }\n",
        "    clf = SVC(gamma='scale', **params)\n",
        "    score = cross_val_score(clf, X, y, scoring='accuracy', cv=StratifiedKFold(n_splits=3)).mean()\n",
        "\n",
        "    return {'loss':-score, 'status': STATUS_OK }\n",
        "\n",
        "space = {\n",
        "    'C': hp.normal('C', 0, 50),\n",
        "    \"kernel\":hp.choice('kernel',['linear','poly','rbf','sigmoid'])\n",
        "}\n",
        "\n",
        "best = fmin(fn=objective,\n",
        "            space=space,\n",
        "            algo=tpe.suggest,\n",
        "            max_evals=20)\n",
        "print(\"SVM: Hyperopt estimated optimum {}\".format(best))"
      ],
      "execution_count": null,
      "outputs": []
    },
    {
      "cell_type": "code",
      "metadata": {
        "scrolled": true,
        "id": "hUIRRWaRdzwz"
      },
      "source": [
        "#KNN\n",
        "from hyperopt import hp, fmin, tpe, STATUS_OK, Trials\n",
        "from sklearn.model_selection import cross_val_score, StratifiedKFold\n",
        "def objective(params):\n",
        "    params = {\n",
        "        'n_neighbors': abs(int(params['n_neighbors']))\n",
        "    }\n",
        "    clf = KNeighborsClassifier( **params)\n",
        "    score = cross_val_score(clf, X, y, scoring='accuracy', cv=StratifiedKFold(n_splits=3)).mean()\n",
        "\n",
        "    return {'loss':-score, 'status': STATUS_OK }\n",
        "\n",
        "space = {\n",
        "    'n_neighbors': hp.quniform('n_neighbors', 1, 20, 1),\n",
        "}\n",
        "\n",
        "best = fmin(fn=objective,\n",
        "            space=space,\n",
        "            algo=tpe.suggest,\n",
        "            max_evals=10)\n",
        "print(\"KNN: Hyperopt estimated optimum {}\".format(best))"
      ],
      "execution_count": null,
      "outputs": []
    },
    {
      "cell_type": "code",
      "metadata": {
        "id": "WYh3SL7Jdzwz"
      },
      "source": [
        "#ANN\n",
        "from hyperopt import hp, fmin, tpe, STATUS_OK, Trials\n",
        "from sklearn.model_selection import cross_val_score, StratifiedKFold\n",
        "def objective(params):\n",
        "    params = {\n",
        "        \"optimizer\":str(params['optimizer']),\n",
        "        \"activation\":str(params['activation']),\n",
        "        'batch_size': abs(int(params['batch_size'])),\n",
        "        'neurons': abs(int(params['neurons'])),\n",
        "        'epochs': abs(int(params['epochs'])),\n",
        "        'patience': abs(int(params['patience']))\n",
        "    }\n",
        "    clf = KerasClassifier(build_fn=ANN,**params, verbose=0)\n",
        "    score = -np.mean(cross_val_score(clf, X, y, cv=3, \n",
        "                                    scoring=\"accuracy\"))\n",
        "\n",
        "    return {'loss':score, 'status': STATUS_OK }\n",
        "\n",
        "space = {\n",
        "    \"optimizer\":hp.choice('optimizer',['adam','rmsprop','sgd']),\n",
        "    \"activation\":hp.choice('activation',['relu','tanh']),\n",
        "    'batch_size': hp.quniform('batch_size', 16, 64, 16),\n",
        "    'neurons': hp.quniform('neurons', 10, 100, 10),\n",
        "    'epochs': hp.quniform('epochs', 20, 50, 10),\n",
        "    'patience': hp.quniform('patience', 3, 20, 3),\n",
        "}\n",
        "\n",
        "best = fmin(fn=objective,\n",
        "            space=space,\n",
        "            algo=tpe.suggest,\n",
        "            max_evals=10)\n",
        "print(\"ANN: Hyperopt estimated optimum {}\".format(best))"
      ],
      "execution_count": null,
      "outputs": []
    },
    {
      "cell_type": "markdown",
      "metadata": {
        "id": "MRqsn38Odzw0"
      },
      "source": [
        "## HPO Algorithm 6: PSO\n",
        "Partical swarm optimization (PSO): Each particle in a swarm communicates with other particles to detect and update the current global optimum in each iteration until the final optimum is detected.\n",
        "\n",
        "**Advantages:**\n",
        "* Efficient with all types of HPs.\n",
        "* Enable parallelization. \n",
        "\n",
        "**Disadvantages:**  \n",
        "* Require proper initialization."
      ]
    },
    {
      "cell_type": "code",
      "metadata": {
        "id": "Iip3oX6C6bF-"
      },
      "source": [
        "!pip install optunity"
      ],
      "execution_count": null,
      "outputs": []
    },
    {
      "cell_type": "code",
      "metadata": {
        "scrolled": false,
        "id": "SRSHgze-dzw0"
      },
      "source": [
        "#Random Forest\n",
        "import optunity\n",
        "import optunity.metrics\n",
        "\n",
        "data=X\n",
        "labels=y.tolist()\n",
        "# Define the hyperparameter configuration space\n",
        "search = {\n",
        "    'n_estimators': [10, 100],\n",
        "    'max_features': [1, 23],\n",
        "    'max_depth': [5,50],\n",
        "    \"min_samples_split\":[2,11],\n",
        "    \"min_samples_leaf\":[1,11],\n",
        "    \"criterion\":[0,1]\n",
        "         }\n",
        "# Define the objective function\n",
        "@optunity.cross_validated(x=data, y=labels, num_folds=3)\n",
        "def performance(x_train, y_train, x_test, y_test,n_estimators=None, max_features=None,max_depth=None,min_samples_split=None,min_samples_leaf=None,criterion=None):\n",
        "    # fit the model\n",
        "    if criterion<0.5:\n",
        "        cri='gini'\n",
        "    else:\n",
        "        cri='entropy'\n",
        "    model = RandomForestClassifier(n_estimators=int(n_estimators),\n",
        "                                   max_features=int(max_features),\n",
        "                                   max_depth=int(max_depth),\n",
        "                                   min_samples_split=int(min_samples_split),\n",
        "                                   min_samples_leaf=int(min_samples_leaf),\n",
        "                                   criterion=cri,\n",
        "                                  )\n",
        "    #predictions = model.predict(x_test)\n",
        "    scores=np.mean(cross_val_score(model, X, y, cv=3, n_jobs=-1,\n",
        "                                    scoring=\"accuracy\"))\n",
        "    #return optunity.metrics.roc_auc(y_test, predictions, positive=True)\n",
        "    return scores#optunity.metrics.accuracy(y_test, predictions)\n",
        "\n",
        "optimal_configuration, info, _ = optunity.maximize(performance,\n",
        "                                                  solver_name='particle swarm',\n",
        "                                                  num_evals=20,\n",
        "                                                   **search\n",
        "                                                  )\n",
        "print(optimal_configuration)\n",
        "print(\"Accuracy:\"+ str(info.optimum))"
      ],
      "execution_count": null,
      "outputs": []
    },
    {
      "cell_type": "code",
      "metadata": {
        "id": "ImVf2HJ3dzw1"
      },
      "source": [
        "#SVM\n",
        "import optunity\n",
        "import optunity.metrics\n",
        "\n",
        "data=X\n",
        "labels=y.tolist()\n",
        "\n",
        "search = {\n",
        "    'C': (0,50),\n",
        "    'kernel':[0,4]\n",
        "         }\n",
        "@optunity.cross_validated(x=data, y=labels, num_folds=3)\n",
        "def performance(x_train, y_train, x_test, y_test,C=None,kernel=None):\n",
        "    # fit the model\n",
        "    if kernel<1:\n",
        "        ke='linear'\n",
        "    elif kernel<2:\n",
        "        ke='poly'\n",
        "    elif kernel<3:\n",
        "        ke='rbf'\n",
        "    else:\n",
        "        ke='sigmoid'\n",
        "    model = SVC(C=float(C),\n",
        "                kernel=ke\n",
        "                                  )\n",
        "    #predictions = model.predict(x_test)\n",
        "    scores=np.mean(cross_val_score(model, X, y, cv=3, n_jobs=-1,\n",
        "                                    scoring=\"accuracy\"))\n",
        "    #return optunity.metrics.roc_auc(y_test, predictions, positive=True)\n",
        "    return scores#optunity.metrics.accuracy(y_test, predictions)\n",
        "\n",
        "optimal_configuration, info, _ = optunity.maximize(performance,\n",
        "                                                  solver_name='particle swarm',\n",
        "                                                  num_evals=20,\n",
        "                                                   **search\n",
        "                                                  )\n",
        "print(optimal_configuration)\n",
        "print(\"Accuracy:\"+ str(info.optimum))"
      ],
      "execution_count": null,
      "outputs": []
    },
    {
      "cell_type": "code",
      "metadata": {
        "id": "aAeYZm5Ndzw2"
      },
      "source": [
        "#KNN\n",
        "import optunity\n",
        "import optunity.metrics\n",
        "\n",
        "data=X\n",
        "labels=y.tolist()\n",
        "\n",
        "search = {\n",
        "    'n_neighbors': [1, 20],\n",
        "         }\n",
        "@optunity.cross_validated(x=data, y=labels, num_folds=3)\n",
        "def performance(x_train, y_train, x_test, y_test,n_neighbors=None):\n",
        "    # fit the model\n",
        "    model = KNeighborsClassifier(n_neighbors=int(n_neighbors),\n",
        "                                  )\n",
        "    scores=np.mean(cross_val_score(model, X, y, cv=3, n_jobs=-1,\n",
        "                                    scoring=\"accuracy\"))\n",
        "    return scores\n",
        "\n",
        "optimal_configuration, info, _ = optunity.maximize(performance,\n",
        "                                                  solver_name='particle swarm',\n",
        "                                                  num_evals=10,\n",
        "                                                   **search\n",
        "                                                  )\n",
        "print(optimal_configuration)\n",
        "print(\"Accuracy:\"+ str(info.optimum))"
      ],
      "execution_count": null,
      "outputs": []
    },
    {
      "cell_type": "code",
      "metadata": {
        "id": "8WeS-zhTdzw2"
      },
      "source": [
        "#ANN\n",
        "import optunity\n",
        "import optunity.metrics\n",
        "\n",
        "data=X\n",
        "labels=y.tolist()\n",
        "\n",
        "search = {\n",
        "    'optimizer':[0,3],\n",
        "    'activation':[0,2],\n",
        "    'batch_size': [0, 2],\n",
        "    'neurons': [10, 100],\n",
        "    'epochs': [20, 50],\n",
        "    'patience': [3, 20],\n",
        "         }\n",
        "@optunity.cross_validated(x=data, y=labels, num_folds=3)\n",
        "def performance(x_train, y_train, x_test, y_test,optimizer=None,activation=None,batch_size=None,neurons=None,epochs=None,patience=None):\n",
        "    # fit the model\n",
        "    if optimizer<1:\n",
        "        op='adam'\n",
        "    elif optimizer<2:\n",
        "        op='sgd'\n",
        "    else:\n",
        "        op='rmsprop'\n",
        "    if activation<1:\n",
        "        ac='relu'\n",
        "    else:\n",
        "        ac='tanh'\n",
        "    if batch_size<1:\n",
        "        ba=16\n",
        "    else:\n",
        "        ba=32\n",
        "    model = ANN(optimizer=op,\n",
        "                activation=ac,\n",
        "                batch_size=ba,\n",
        "                neurons=int(neurons),\n",
        "                epochs=int(epochs),\n",
        "                patience=int(patience)\n",
        "                                  )\n",
        "    clf = KerasClassifier(build_fn=ANN, verbose=0)\n",
        "    scores=np.mean(cross_val_score(clf, X, y, cv=3, \n",
        "                                    scoring=\"accuracy\"))\n",
        "\n",
        "    return scores\n",
        "\n",
        "optimal_configuration, info, _ = optunity.maximize(performance,\n",
        "                                                  solver_name='particle swarm',\n",
        "                                                  num_evals=20,\n",
        "                                                   **search\n",
        "                                                  )\n",
        "print(optimal_configuration)\n",
        "print(\"MSE:\"+ str(info.optimum))"
      ],
      "execution_count": null,
      "outputs": []
    },
    {
      "cell_type": "markdown",
      "metadata": {
        "id": "pKytNvh8dzw3"
      },
      "source": [
        "## HPO Algorithm 7: Genetic Algorithm\n",
        "Genetic algorithms detect well-performing hyper-parameter combinations in each generation, and pass them to the next generation until the best-performing combination is identified.\n",
        "\n",
        "**Advantages:**\n",
        "* Efficient with all types of HPs.\n",
        "* Not require good initialization.\n",
        " \n",
        "\n",
        "**Disadvantages:**  \n",
        "* Poor capacity for parallelization."
      ]
    },
    {
      "cell_type": "markdown",
      "metadata": {
        "id": "MXhlPrMzdzw4"
      },
      "source": [
        "### Using DEAP"
      ]
    },
    {
      "cell_type": "code",
      "metadata": {
        "colab": {
          "base_uri": "https://localhost:8080/"
        },
        "id": "v_QpMfs0_-GQ",
        "outputId": "cc2cdc9a-efc1-4e3c-ca1d-2db709925712"
      },
      "source": [
        "!pip install sklearn-deap"
      ],
      "execution_count": null,
      "outputs": [
        {
          "output_type": "stream",
          "name": "stdout",
          "text": [
            "Requirement already satisfied: sklearn-deap in /usr/local/lib/python3.7/dist-packages (0.3.0)\n",
            "Requirement already satisfied: deap>=1.0.2 in /usr/local/lib/python3.7/dist-packages (from sklearn-deap) (1.3.1)\n",
            "Requirement already satisfied: numpy>=1.9.3 in /usr/local/lib/python3.7/dist-packages (from sklearn-deap) (1.19.5)\n",
            "Requirement already satisfied: scikit-learn>=0.24.0 in /usr/local/lib/python3.7/dist-packages (from sklearn-deap) (1.0)\n",
            "Requirement already satisfied: scipy>=0.16.0 in /usr/local/lib/python3.7/dist-packages (from sklearn-deap) (1.4.1)\n",
            "Requirement already satisfied: threadpoolctl>=2.0.0 in /usr/local/lib/python3.7/dist-packages (from scikit-learn>=0.24.0->sklearn-deap) (2.2.0)\n",
            "Requirement already satisfied: joblib>=0.11 in /usr/local/lib/python3.7/dist-packages (from scikit-learn>=0.24.0->sklearn-deap) (1.0.1)\n",
            "\u001b[33mWARNING: Running pip as the 'root' user can result in broken permissions and conflicting behaviour with the system package manager. It is recommended to use a virtual environment instead: https://pip.pypa.io/warnings/venv\u001b[0m\n"
          ]
        }
      ]
    },
    {
      "cell_type": "code",
      "metadata": {
        "id": "bSsQ1-u4dzw4"
      },
      "source": [
        "#Random Forest\n",
        "from evolutionary_search import EvolutionaryAlgorithmSearchCV\n",
        "# Define the hyperparameter configuration space\n",
        "rf_params = {\n",
        "    'n_estimators': np.logspace(1,1.8,num = 10 ,base=20,dtype='int'),\n",
        "    'max_depth': np.logspace(1,2,num = 10 ,base=10,dtype='int'),\n",
        "    \"max_features\":np.logspace(0.2,1,num = 5 ,base=8,dtype='int'),\n",
        "    \"min_samples_split\":np.logspace(0.4, 1, num=5, base=10, dtype='int'), #[2, 3, 5, 7, 10],\n",
        "    \"min_samples_leaf\":np.logspace(0.1,1,num = 5 ,base=11,dtype='int'),\n",
        "    \"criterion\":['gini','entropy']\n",
        "}\n",
        "rf_params = {\n",
        "    'n_estimators': range(10,100),\n",
        "    \"max_features\":range(1,23),\n",
        "    'max_depth': range(5,50),\n",
        "    \"min_samples_split\":range(2,11),\n",
        "    \"min_samples_leaf\":range(1,11),\n",
        "    #Categorical(name='criterion', categories=['gini','entropy'])#\n",
        "    \"criterion\":['gini','entropy']\n",
        "}\n",
        "clf = RandomForestClassifier(random_state=0)\n",
        "# Set the hyperparameters of GA \n",
        "ga1 = EvolutionaryAlgorithmSearchCV(estimator=clf,\n",
        "                                   params=rf_params,\n",
        "                                   scoring=\"accuracy\",\n",
        "                                   cv=3,\n",
        "                                   verbose=1,\n",
        "                                   population_size=10,\n",
        "                                   gene_mutation_prob=0.10,\n",
        "                                   gene_crossover_prob=0.5,\n",
        "                                   tournament_size=3,\n",
        "                                   generations_number=5,\n",
        "                                   n_jobs=1)\n",
        "ga1.fit(X,y)\n",
        "print(ga1.best_params_)\n",
        "print(\"Accuracy:\"+ str(ga1.best_score_))"
      ],
      "execution_count": null,
      "outputs": []
    },
    {
      "cell_type": "code",
      "metadata": {
        "id": "TY2dwSn9dzw5"
      },
      "source": [
        "#SVM\n",
        "from evolutionary_search import EvolutionaryAlgorithmSearchCV\n",
        "rf_params = {\n",
        "    'C': np.random.uniform(0,50,1000),\n",
        "    \"kernel\":['linear','poly','rbf','sigmoid']\n",
        "}\n",
        "clf = SVC(gamma='scale')\n",
        "ga1 = EvolutionaryAlgorithmSearchCV(estimator=clf,\n",
        "                                   params=rf_params,\n",
        "                                   scoring=\"accuracy\",\n",
        "                                   cv=3,\n",
        "                                   verbose=1,\n",
        "                                   population_size=10,\n",
        "                                   gene_mutation_prob=0.10,\n",
        "                                   gene_crossover_prob=0.5,\n",
        "                                   tournament_size=3,\n",
        "                                   generations_number=5,\n",
        "                                   n_jobs=1)\n",
        "print(y)\n",
        "ga1.fit(X, y)\n",
        "print(ga1.best_params_)\n",
        "print(\"Accuracy:\"+ str(ga1.best_score_))"
      ],
      "execution_count": null,
      "outputs": []
    },
    {
      "cell_type": "code",
      "metadata": {
        "id": "eNfoL9AIdzw6"
      },
      "source": [
        "#KNN\n",
        "from evolutionary_search import EvolutionaryAlgorithmSearchCV\n",
        "rf_params = {\n",
        "    'n_neighbors': range(1,20),\n",
        "}\n",
        "clf = KNeighborsClassifier()\n",
        "ga1 = EvolutionaryAlgorithmSearchCV(estimator=clf,\n",
        "                                   params=rf_params,\n",
        "                                   scoring=\"accuracy\",\n",
        "                                   cv=3,\n",
        "                                   verbose=1,\n",
        "                                   population_size=10,\n",
        "                                   gene_mutation_prob=0.10,\n",
        "                                   gene_crossover_prob=0.5,\n",
        "                                   tournament_size=3,\n",
        "                                   generations_number=5,\n",
        "                                   n_jobs=1)\n",
        "ga1.fit(X, y)\n",
        "print(ga1.best_params_)\n",
        "print(\"Accuracy:\"+ str(ga1.best_score_))"
      ],
      "execution_count": null,
      "outputs": []
    },
    {
      "cell_type": "code",
      "metadata": {
        "id": "ELE0gMfCdzw6"
      },
      "source": [
        "#ANN\n",
        "from evolutionary_search import EvolutionaryAlgorithmSearchCV\n",
        "# Define the hyperparameter configuration space\n",
        "rf_params = {\n",
        "    'optimizer': ['adam','rmsprop','sgd'],\n",
        "    'activation': ['relu','tanh'],\n",
        "    'batch_size': [16,32,64],\n",
        "    'neurons':range(10,100),\n",
        "    'epochs':[20,50],\n",
        "    #'epochs':[20,50,100,200],\n",
        "    'patience':range(3,20)\n",
        "}\n",
        "clf = KerasClassifier(build_fn=ANN, verbose=0)\n",
        "# Set the hyperparameters of GA    \n",
        "ga1 = EvolutionaryAlgorithmSearchCV(estimator=clf,\n",
        "                                   params=rf_params,\n",
        "                                   scoring=\"accuracy\",\n",
        "                                   cv=3,\n",
        "                                   verbose=1,\n",
        "                                   population_size=10,\n",
        "                                   gene_mutation_prob=0.10,\n",
        "                                   gene_crossover_prob=0.5,\n",
        "                                   tournament_size=3,\n",
        "                                   generations_number=5,\n",
        "                                   n_jobs=1)\n",
        "ga1.fit(X, y)\n",
        "print(ga1.best_params_)\n",
        "print(\"Accuracy:\"+ str(ga1.best_score_))"
      ],
      "execution_count": null,
      "outputs": []
    },
    {
      "cell_type": "markdown",
      "metadata": {
        "id": "dsliqnKTdzw7"
      },
      "source": [
        "### Using TPOT"
      ]
    },
    {
      "cell_type": "code",
      "metadata": {
        "id": "T22Tq34ddzw7",
        "outputId": "a1bb68aa-c2c4-492e-a47e-c45e375b65df"
      },
      "source": [
        "#Random Forest\n",
        "from tpot import TPOTClassifier\n",
        "# Define the hyperparameter configuration space\n",
        "parameters = {\n",
        "        'n_estimators': range(20,200),\n",
        "    \"max_features\":range(1,64),\n",
        "    'max_depth': range(10,100),\n",
        "    \"min_samples_split\":range(2,11),\n",
        "    \"min_samples_leaf\":range(1,11),\n",
        "    \"criterion\":['gini','entropy']\n",
        "             }\n",
        "# Set the hyperparameters of GA                 \n",
        "ga2 = TPOTClassifier(generations= 3, population_size= 10, offspring_size= 5,\n",
        "                                 verbosity= 3, early_stop= 5,\n",
        "                                 config_dict=\n",
        "                                 {'sklearn.ensemble.RandomForestClassifier': parameters}, \n",
        "                                 cv = 3, scoring = 'accuracy')\n",
        "ga2.fit(X, y)"
      ],
      "execution_count": null,
      "outputs": [
        {
          "name": "stdout",
          "output_type": "stream",
          "text": [
            "1 operators have been imported by TPOT.\n",
            "Generation 1 - Current Pareto front scores:\n",
            "-1\t0.9248510704682911\tRandomForestClassifier(CombineDFs(input_matrix, input_matrix), RandomForestClassifier__criterion=gini, RandomForestClassifier__max_depth=42, RandomForestClassifier__max_features=24, RandomForestClassifier__min_samples_leaf=2, RandomForestClassifier__min_samples_split=2, RandomForestClassifier__n_estimators=110)\n",
            "\n",
            "Generation 2 - Current Pareto front scores:\n",
            "-1\t0.9331983437951373\tRandomForestClassifier(input_matrix, RandomForestClassifier__criterion=gini, RandomForestClassifier__max_depth=99, RandomForestClassifier__max_features=22, RandomForestClassifier__min_samples_leaf=1, RandomForestClassifier__min_samples_split=5, RandomForestClassifier__n_estimators=192)\n",
            "\n",
            "Generation 3 - Current Pareto front scores:\n",
            "-1\t0.9331983437951373\tRandomForestClassifier(input_matrix, RandomForestClassifier__criterion=gini, RandomForestClassifier__max_depth=99, RandomForestClassifier__max_features=22, RandomForestClassifier__min_samples_leaf=1, RandomForestClassifier__min_samples_split=5, RandomForestClassifier__n_estimators=192)\n",
            "\n"
          ]
        },
        {
          "data": {
            "text/plain": [
              "TPOTClassifier(config_dict={'sklearn.ensemble.RandomForestClassifier': {'n_estimators': range(20, 200), 'max_features': range(1, 64), 'max_depth': range(10, 100), 'min_samples_split': range(2, 11), 'min_samples_leaf': range(1, 11), 'criterion': ['gini', 'entropy']}},\n",
              "        crossover_rate=0.1, cv=3, disable_update_check=False, early_stop=5,\n",
              "        generations=3, max_eval_time_mins=5, max_time_mins=None,\n",
              "        memory=None, mutation_rate=0.9, n_jobs=1, offspring_size=5,\n",
              "        periodic_checkpoint_folder=None, population_size=10,\n",
              "        random_state=None, scoring='accuracy', subsample=1.0,\n",
              "        template=None, use_dask=False, verbosity=3, warm_start=False)"
            ]
          },
          "execution_count": 47,
          "metadata": {},
          "output_type": "execute_result"
        }
      ]
    },
    {
      "cell_type": "code",
      "metadata": {
        "id": "vcYEVQSIdzw8",
        "outputId": "6cfecd7a-509f-4f82-d098-3da3ff9bbb23"
      },
      "source": [
        "#SVM\n",
        "from tpot import TPOTClassifier\n",
        "\n",
        "parameters = {\n",
        "    'C': np.random.uniform(0,50,1000),\n",
        "    \"kernel\":['linear','poly','rbf','sigmoid']\n",
        "             }\n",
        "               \n",
        "ga2 = TPOTClassifier(generations= 3, population_size= 10, offspring_size= 5,\n",
        "                                 verbosity= 3, early_stop= 5,\n",
        "                                 config_dict=\n",
        "                                 {'sklearn.svm.SVC': parameters}, \n",
        "                                 cv = 3, scoring = 'accuracy')\n",
        "ga2.fit(X, y)"
      ],
      "execution_count": null,
      "outputs": [
        {
          "name": "stdout",
          "output_type": "stream",
          "text": [
            "1 operators have been imported by TPOT.\n",
            "Generation 1 - Current Pareto front scores:\n",
            "-1\t0.9604833211865952\tSVC(input_matrix, SVC__C=44.89175174937672, SVC__kernel=poly)\n",
            "\n",
            "Generation 2 - Current Pareto front scores:\n",
            "-1\t0.9604833211865952\tSVC(input_matrix, SVC__C=44.89175174937672, SVC__kernel=poly)\n",
            "\n",
            "Generation 3 - Current Pareto front scores:\n",
            "-1\t0.9604833211865952\tSVC(input_matrix, SVC__C=44.89175174937672, SVC__kernel=poly)\n",
            "\n",
            "\n",
            "The optimized pipeline was not improved after evaluating 5 more generations. Will end the optimization process.\n",
            "\n",
            "TPOT closed prematurely. Will use the current best pipeline.\n"
          ]
        },
        {
          "data": {
            "text/plain": [
              "TPOTClassifier(config_dict={'sklearn.svm.SVC': {'kernel': ['linear', 'poly', 'rbf', 'sigmoid'], 'C': array([29.68993, 40.91101, ..., 20.12904, 32.1227 ])}},\n",
              "        crossover_rate=0.1, cv=3, disable_update_check=False, early_stop=5,\n",
              "        generations=3, max_eval_time_mins=5, max_time_mins=None,\n",
              "        memory=None, mutation_rate=0.9, n_jobs=1, offspring_size=5,\n",
              "        periodic_checkpoint_folder=None, population_size=10,\n",
              "        random_state=None, scoring='accuracy', subsample=1.0,\n",
              "        template=None, use_dask=False, verbosity=3, warm_start=False)"
            ]
          },
          "execution_count": 48,
          "metadata": {},
          "output_type": "execute_result"
        }
      ]
    },
    {
      "cell_type": "code",
      "metadata": {
        "id": "fsncpAuWdzw8",
        "outputId": "c08f4c63-98eb-4f4b-a614-27c423acee9e"
      },
      "source": [
        "#KNN\n",
        "from tpot import TPOTClassifier\n",
        "\n",
        "parameters = {\n",
        "    'n_neighbors': range(1,20),\n",
        "             }\n",
        "               \n",
        "ga2 = TPOTClassifier(generations= 3, population_size= 10, offspring_size= 5,\n",
        "                                 verbosity= 3, early_stop= 5,\n",
        "                                 config_dict=\n",
        "                                 {'sklearn.neighbors.KNeighborsClassifier': parameters}, \n",
        "                                 cv = 3, scoring = 'accuracy')\n",
        "ga2.fit(X, y)"
      ],
      "execution_count": null,
      "outputs": [
        {
          "name": "stdout",
          "output_type": "stream",
          "text": [
            "1 operators have been imported by TPOT.\n",
            "Generation 1 - Current Pareto front scores:\n",
            "-1\t0.9644039680147021\tKNeighborsClassifier(CombineDFs(input_matrix, input_matrix), KNeighborsClassifier__n_neighbors=4)\n",
            "-2\t0.968853170732936\tKNeighborsClassifier(KNeighborsClassifier(input_matrix, KNeighborsClassifier__n_neighbors=15), KNeighborsClassifier__n_neighbors=3)\n",
            "\n",
            "Generation 2 - Current Pareto front scores:\n",
            "-1\t0.968293886616605\tKNeighborsClassifier(input_matrix, KNeighborsClassifier__n_neighbors=3)\n",
            "-2\t0.968853170732936\tKNeighborsClassifier(KNeighborsClassifier(input_matrix, KNeighborsClassifier__n_neighbors=15), KNeighborsClassifier__n_neighbors=3)\n",
            "\n",
            "Generation 3 - Current Pareto front scores:\n",
            "-1\t0.968293886616605\tKNeighborsClassifier(input_matrix, KNeighborsClassifier__n_neighbors=3)\n",
            "-2\t0.968853170732936\tKNeighborsClassifier(KNeighborsClassifier(input_matrix, KNeighborsClassifier__n_neighbors=15), KNeighborsClassifier__n_neighbors=3)\n",
            "\n"
          ]
        },
        {
          "data": {
            "text/plain": [
              "TPOTClassifier(config_dict={'sklearn.neighbors.KNeighborsClassifier': {'n_neighbors': range(1, 20)}},\n",
              "        crossover_rate=0.1, cv=3, disable_update_check=False, early_stop=5,\n",
              "        generations=3, max_eval_time_mins=5, max_time_mins=None,\n",
              "        memory=None, mutation_rate=0.9, n_jobs=1, offspring_size=5,\n",
              "        periodic_checkpoint_folder=None, population_size=10,\n",
              "        random_state=None, scoring='accuracy', subsample=1.0,\n",
              "        template=None, use_dask=False, verbosity=3, warm_start=False)"
            ]
          },
          "execution_count": 49,
          "metadata": {},
          "output_type": "execute_result"
        }
      ]
    },
    {
      "cell_type": "code",
      "metadata": {
        "collapsed": true,
        "id": "KuUNItJvdzw9"
      },
      "source": [
        ""
      ],
      "execution_count": null,
      "outputs": []
    },
    {
      "cell_type": "code",
      "metadata": {
        "collapsed": true,
        "id": "CmlZYzs0dzw9"
      },
      "source": [
        ""
      ],
      "execution_count": null,
      "outputs": []
    }
  ]
}